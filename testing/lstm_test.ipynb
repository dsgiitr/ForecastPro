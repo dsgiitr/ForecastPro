{
 "cells": [
  {
   "cell_type": "code",
   "execution_count": 2,
   "metadata": {},
   "outputs": [],
   "source": [
    "import numpy as np\n",
    "import pandas as pd\n",
    "import matplotlib.pyplot as plt\n",
    "import seaborn as sns\n",
    "import tensorflow as tf\n",
    "from tensorflow.keras.models import Sequential\n",
    "from tensorflow.keras.layers import *\n",
    "from tensorflow.keras.callbacks import ModelCheckpoint\n",
    "from tensorflow.keras.losses import MeanSquaredError\n",
    "from tensorflow.keras.metrics import RootMeanSquaredError\n",
    "from tensorflow.keras.optimizers import Adam"
   ]
  },
  {
   "cell_type": "code",
   "execution_count": 3,
   "metadata": {},
   "outputs": [],
   "source": [
    "def df_to_X_y(df, window_size=7):\n",
    "  df_as_np = df.to_numpy()\n",
    "  X = []\n",
    "  y = []\n",
    "  for i in range(len(df_as_np)-window_size):\n",
    "    row = [[a] for a in df_as_np[i:i+window_size]]\n",
    "    X.append(row)\n",
    "    label = df_as_np[i+window_size]\n",
    "    y.append(label)\n",
    "  return np.array(X), np.array(y)"
   ]
  },
  {
   "cell_type": "code",
   "execution_count": 4,
   "metadata": {},
   "outputs": [
    {
     "data": {
      "text/html": [
       "<div>\n",
       "<style scoped>\n",
       "    .dataframe tbody tr th:only-of-type {\n",
       "        vertical-align: middle;\n",
       "    }\n",
       "\n",
       "    .dataframe tbody tr th {\n",
       "        vertical-align: top;\n",
       "    }\n",
       "\n",
       "    .dataframe thead th {\n",
       "        text-align: right;\n",
       "    }\n",
       "</style>\n",
       "<table border=\"1\" class=\"dataframe\">\n",
       "  <thead>\n",
       "    <tr style=\"text-align: right;\">\n",
       "      <th></th>\n",
       "      <th>Date</th>\n",
       "      <th>Time</th>\n",
       "      <th>CO(GT)</th>\n",
       "      <th>PT08.S1(CO)</th>\n",
       "      <th>NMHC(GT)</th>\n",
       "      <th>C6H6(GT)</th>\n",
       "      <th>PT08.S2(NMHC)</th>\n",
       "      <th>NOx(GT)</th>\n",
       "      <th>PT08.S3(NOx)</th>\n",
       "      <th>NO2(GT)</th>\n",
       "      <th>PT08.S4(NO2)</th>\n",
       "      <th>PT08.S5(O3)</th>\n",
       "      <th>T</th>\n",
       "      <th>RH</th>\n",
       "      <th>AH</th>\n",
       "    </tr>\n",
       "  </thead>\n",
       "  <tbody>\n",
       "    <tr>\n",
       "      <th>0</th>\n",
       "      <td>2004-03-10</td>\n",
       "      <td>18:00:00</td>\n",
       "      <td>2.6</td>\n",
       "      <td>1360.00</td>\n",
       "      <td>150</td>\n",
       "      <td>11.881723</td>\n",
       "      <td>1045.50</td>\n",
       "      <td>166.0</td>\n",
       "      <td>1056.25</td>\n",
       "      <td>113.0</td>\n",
       "      <td>1692.00</td>\n",
       "      <td>1267.50</td>\n",
       "      <td>13.600</td>\n",
       "      <td>48.875001</td>\n",
       "      <td>0.757754</td>\n",
       "    </tr>\n",
       "    <tr>\n",
       "      <th>1</th>\n",
       "      <td>2004-03-10</td>\n",
       "      <td>19:00:00</td>\n",
       "      <td>2.0</td>\n",
       "      <td>1292.25</td>\n",
       "      <td>112</td>\n",
       "      <td>9.397165</td>\n",
       "      <td>954.75</td>\n",
       "      <td>103.0</td>\n",
       "      <td>1173.75</td>\n",
       "      <td>92.0</td>\n",
       "      <td>1558.75</td>\n",
       "      <td>972.25</td>\n",
       "      <td>13.300</td>\n",
       "      <td>47.700000</td>\n",
       "      <td>0.725487</td>\n",
       "    </tr>\n",
       "    <tr>\n",
       "      <th>2</th>\n",
       "      <td>2004-03-10</td>\n",
       "      <td>20:00:00</td>\n",
       "      <td>2.2</td>\n",
       "      <td>1402.00</td>\n",
       "      <td>88</td>\n",
       "      <td>8.997817</td>\n",
       "      <td>939.25</td>\n",
       "      <td>131.0</td>\n",
       "      <td>1140.00</td>\n",
       "      <td>114.0</td>\n",
       "      <td>1554.50</td>\n",
       "      <td>1074.00</td>\n",
       "      <td>11.900</td>\n",
       "      <td>53.975000</td>\n",
       "      <td>0.750239</td>\n",
       "    </tr>\n",
       "    <tr>\n",
       "      <th>3</th>\n",
       "      <td>2004-03-10</td>\n",
       "      <td>21:00:00</td>\n",
       "      <td>2.2</td>\n",
       "      <td>1375.50</td>\n",
       "      <td>80</td>\n",
       "      <td>9.228796</td>\n",
       "      <td>948.25</td>\n",
       "      <td>172.0</td>\n",
       "      <td>1092.00</td>\n",
       "      <td>122.0</td>\n",
       "      <td>1583.75</td>\n",
       "      <td>1203.25</td>\n",
       "      <td>11.000</td>\n",
       "      <td>60.000000</td>\n",
       "      <td>0.786713</td>\n",
       "    </tr>\n",
       "    <tr>\n",
       "      <th>4</th>\n",
       "      <td>2004-03-10</td>\n",
       "      <td>22:00:00</td>\n",
       "      <td>1.6</td>\n",
       "      <td>1272.25</td>\n",
       "      <td>51</td>\n",
       "      <td>6.518224</td>\n",
       "      <td>835.50</td>\n",
       "      <td>131.0</td>\n",
       "      <td>1205.00</td>\n",
       "      <td>116.0</td>\n",
       "      <td>1490.00</td>\n",
       "      <td>1110.00</td>\n",
       "      <td>11.150</td>\n",
       "      <td>59.575001</td>\n",
       "      <td>0.788794</td>\n",
       "    </tr>\n",
       "    <tr>\n",
       "      <th>...</th>\n",
       "      <td>...</td>\n",
       "      <td>...</td>\n",
       "      <td>...</td>\n",
       "      <td>...</td>\n",
       "      <td>...</td>\n",
       "      <td>...</td>\n",
       "      <td>...</td>\n",
       "      <td>...</td>\n",
       "      <td>...</td>\n",
       "      <td>...</td>\n",
       "      <td>...</td>\n",
       "      <td>...</td>\n",
       "      <td>...</td>\n",
       "      <td>...</td>\n",
       "      <td>...</td>\n",
       "    </tr>\n",
       "    <tr>\n",
       "      <th>9352</th>\n",
       "      <td>2005-04-04</td>\n",
       "      <td>10:00:00</td>\n",
       "      <td>3.1</td>\n",
       "      <td>1314.25</td>\n",
       "      <td>-200</td>\n",
       "      <td>13.529605</td>\n",
       "      <td>1101.25</td>\n",
       "      <td>471.7</td>\n",
       "      <td>538.50</td>\n",
       "      <td>189.8</td>\n",
       "      <td>1374.25</td>\n",
       "      <td>1728.50</td>\n",
       "      <td>21.850</td>\n",
       "      <td>29.250000</td>\n",
       "      <td>0.756824</td>\n",
       "    </tr>\n",
       "    <tr>\n",
       "      <th>9353</th>\n",
       "      <td>2005-04-04</td>\n",
       "      <td>11:00:00</td>\n",
       "      <td>2.4</td>\n",
       "      <td>1162.50</td>\n",
       "      <td>-200</td>\n",
       "      <td>11.355157</td>\n",
       "      <td>1027.00</td>\n",
       "      <td>353.3</td>\n",
       "      <td>603.75</td>\n",
       "      <td>179.2</td>\n",
       "      <td>1263.50</td>\n",
       "      <td>1269.00</td>\n",
       "      <td>24.325</td>\n",
       "      <td>23.725000</td>\n",
       "      <td>0.711864</td>\n",
       "    </tr>\n",
       "    <tr>\n",
       "      <th>9354</th>\n",
       "      <td>2005-04-04</td>\n",
       "      <td>12:00:00</td>\n",
       "      <td>2.4</td>\n",
       "      <td>1142.00</td>\n",
       "      <td>-200</td>\n",
       "      <td>12.374538</td>\n",
       "      <td>1062.50</td>\n",
       "      <td>293.0</td>\n",
       "      <td>603.25</td>\n",
       "      <td>174.7</td>\n",
       "      <td>1240.75</td>\n",
       "      <td>1092.00</td>\n",
       "      <td>26.900</td>\n",
       "      <td>18.350000</td>\n",
       "      <td>0.640649</td>\n",
       "    </tr>\n",
       "    <tr>\n",
       "      <th>9355</th>\n",
       "      <td>2005-04-04</td>\n",
       "      <td>13:00:00</td>\n",
       "      <td>2.1</td>\n",
       "      <td>1002.50</td>\n",
       "      <td>-200</td>\n",
       "      <td>9.547187</td>\n",
       "      <td>960.50</td>\n",
       "      <td>234.5</td>\n",
       "      <td>701.50</td>\n",
       "      <td>155.7</td>\n",
       "      <td>1041.00</td>\n",
       "      <td>769.75</td>\n",
       "      <td>28.325</td>\n",
       "      <td>13.550000</td>\n",
       "      <td>0.513866</td>\n",
       "    </tr>\n",
       "    <tr>\n",
       "      <th>9356</th>\n",
       "      <td>2005-04-04</td>\n",
       "      <td>14:00:00</td>\n",
       "      <td>2.2</td>\n",
       "      <td>1070.75</td>\n",
       "      <td>-200</td>\n",
       "      <td>11.932060</td>\n",
       "      <td>1047.25</td>\n",
       "      <td>265.2</td>\n",
       "      <td>654.00</td>\n",
       "      <td>167.7</td>\n",
       "      <td>1128.50</td>\n",
       "      <td>816.00</td>\n",
       "      <td>28.500</td>\n",
       "      <td>13.125000</td>\n",
       "      <td>0.502804</td>\n",
       "    </tr>\n",
       "  </tbody>\n",
       "</table>\n",
       "<p>9357 rows × 15 columns</p>\n",
       "</div>"
      ],
      "text/plain": [
       "           Date      Time  CO(GT)  PT08.S1(CO)  NMHC(GT)   C6H6(GT)  \\\n",
       "0    2004-03-10  18:00:00     2.6      1360.00       150  11.881723   \n",
       "1    2004-03-10  19:00:00     2.0      1292.25       112   9.397165   \n",
       "2    2004-03-10  20:00:00     2.2      1402.00        88   8.997817   \n",
       "3    2004-03-10  21:00:00     2.2      1375.50        80   9.228796   \n",
       "4    2004-03-10  22:00:00     1.6      1272.25        51   6.518224   \n",
       "...         ...       ...     ...          ...       ...        ...   \n",
       "9352 2005-04-04  10:00:00     3.1      1314.25      -200  13.529605   \n",
       "9353 2005-04-04  11:00:00     2.4      1162.50      -200  11.355157   \n",
       "9354 2005-04-04  12:00:00     2.4      1142.00      -200  12.374538   \n",
       "9355 2005-04-04  13:00:00     2.1      1002.50      -200   9.547187   \n",
       "9356 2005-04-04  14:00:00     2.2      1070.75      -200  11.932060   \n",
       "\n",
       "      PT08.S2(NMHC)  NOx(GT)  PT08.S3(NOx)  NO2(GT)  PT08.S4(NO2)  \\\n",
       "0           1045.50    166.0       1056.25    113.0       1692.00   \n",
       "1            954.75    103.0       1173.75     92.0       1558.75   \n",
       "2            939.25    131.0       1140.00    114.0       1554.50   \n",
       "3            948.25    172.0       1092.00    122.0       1583.75   \n",
       "4            835.50    131.0       1205.00    116.0       1490.00   \n",
       "...             ...      ...           ...      ...           ...   \n",
       "9352        1101.25    471.7        538.50    189.8       1374.25   \n",
       "9353        1027.00    353.3        603.75    179.2       1263.50   \n",
       "9354        1062.50    293.0        603.25    174.7       1240.75   \n",
       "9355         960.50    234.5        701.50    155.7       1041.00   \n",
       "9356        1047.25    265.2        654.00    167.7       1128.50   \n",
       "\n",
       "      PT08.S5(O3)       T         RH        AH  \n",
       "0         1267.50  13.600  48.875001  0.757754  \n",
       "1          972.25  13.300  47.700000  0.725487  \n",
       "2         1074.00  11.900  53.975000  0.750239  \n",
       "3         1203.25  11.000  60.000000  0.786713  \n",
       "4         1110.00  11.150  59.575001  0.788794  \n",
       "...           ...     ...        ...       ...  \n",
       "9352      1728.50  21.850  29.250000  0.756824  \n",
       "9353      1269.00  24.325  23.725000  0.711864  \n",
       "9354      1092.00  26.900  18.350000  0.640649  \n",
       "9355       769.75  28.325  13.550000  0.513866  \n",
       "9356       816.00  28.500  13.125000  0.502804  \n",
       "\n",
       "[9357 rows x 15 columns]"
      ]
     },
     "execution_count": 4,
     "metadata": {},
     "output_type": "execute_result"
    }
   ],
   "source": [
    "df=pd.read_excel(r'C:\\Users\\ved14\\OneDrive\\Desktop\\extracurriculars\\ForecastPro\\data\\AirQualityUCI.xlsx')\n",
    "df"
   ]
  },
  {
   "cell_type": "code",
   "execution_count": 5,
   "metadata": {},
   "outputs": [
    {
     "data": {
      "image/png": "[encoded data removed]",
      "text/plain": [
       "<Figure size 432x288 with 1 Axes>"
      ]
     },
     "metadata": {
      "needs_background": "light"
     },
     "output_type": "display_data"
    }
   ],
   "source": [
    "df['NOx(GT)'].replace(-200,df['NOx(GT)'].mean(),inplace=True)\n",
    "df['T'].replace(-200,df['T'].mean(),inplace=True)\n",
    "df['RH'].replace(-200,df['RH'].mean(),inplace=True)\n",
    "df['T'].iloc[:2000].plot()\n",
    "df['RH'].iloc[:2000].plot()\n",
    "plt.show()"
   ]
  },
  {
   "cell_type": "code",
   "execution_count": 6,
   "metadata": {},
   "outputs": [
    {
     "data": {
      "text/plain": [
       "array([[13.5999999 , 48.87500095],\n",
       "       [13.29999995, 47.69999981],\n",
       "       [11.9000001 , 53.97500038],\n",
       "       ...,\n",
       "       [26.89999962, 18.34999967],\n",
       "       [28.32499981, 13.54999995],\n",
       "       [28.50000048, 13.125     ]])"
      ]
     },
     "execution_count": 6,
     "metadata": {},
     "output_type": "execute_result"
    }
   ],
   "source": [
    "X=np.array(df[['T','RH']])\n",
    "X"
   ]
  },
  {
   "cell_type": "code",
   "execution_count": 27,
   "metadata": {},
   "outputs": [
    {
     "name": "stdout",
     "output_type": "stream",
     "text": [
      "Model: \"sequential_1\"\n",
      "_________________________________________________________________\n",
      " Layer (type)                Output Shape              Param #   \n",
      "=================================================================\n",
      " conv1d_1 (Conv1D)           (None, 6, 32)             160       \n",
      "                                                                 \n",
      " lstm_1 (LSTM)               (None, 64)                24832     \n",
      "                                                                 \n",
      " dense_3 (Dense)             (None, 32)                2080      \n",
      "                                                                 \n",
      " dense_4 (Dense)             (None, 16)                528       \n",
      "                                                                 \n",
      " dense_5 (Dense)             (None, 2)                 34        \n",
      "                                                                 \n",
      "=================================================================\n",
      "Total params: 27,634\n",
      "Trainable params: 27,634\n",
      "Non-trainable params: 0\n",
      "_________________________________________________________________\n"
     ]
    }
   ],
   "source": [
    "time_steps=7\n",
    "n_series=2\n",
    "\n",
    "model2 = Sequential()\n",
    "model2.add(InputLayer((time_steps, n_series)))\n",
    "model2.add(Conv1D(32, kernel_size=2)),\n",
    "model2.add(LSTM(64))\n",
    "#model2.add(Flatten())\n",
    "model2.add(Dense(32, 'relu'))\n",
    "model2.add(Dense(16,'relu'))\n",
    "model2.add(Dense(n_series, 'linear'))\n",
    "\n",
    "model2.summary()"
   ]
  },
  {
   "cell_type": "code",
   "execution_count": 28,
   "metadata": {},
   "outputs": [],
   "source": [
    "X,y=df_to_X_y(df[['T','RH']],window_size=time_steps)\n",
    "X=X.reshape(-1,time_steps,2)"
   ]
  },
  {
   "cell_type": "code",
   "execution_count": 29,
   "metadata": {},
   "outputs": [],
   "source": [
    "X=X.reshape(-1,time_steps,2)"
   ]
  },
  {
   "cell_type": "code",
   "execution_count": 30,
   "metadata": {},
   "outputs": [],
   "source": [
    "X_train=X[:3000]\n",
    "y_train=y[:3000]\n",
    "X_test=X[3000:4000]\n",
    "y_test=y[3000:4000]"
   ]
  },
  {
   "cell_type": "code",
   "execution_count": null,
   "metadata": {},
   "outputs": [],
   "source": []
  },
  {
   "cell_type": "code",
   "execution_count": 31,
   "metadata": {},
   "outputs": [
    {
     "name": "stdout",
     "output_type": "stream",
     "text": [
      "Epoch 1/30\n"
     ]
    },
    {
     "name": "stdout",
     "output_type": "stream",
     "text": [
      "89/94 [===========================>..] - ETA: 0s - loss: 778.0302 - root_mean_squared_error: 27.8932"
     ]
    },
    {
     "name": "stderr",
     "output_type": "stream",
     "text": [
      "WARNING:absl:Found untraced functions such as _jit_compiled_convolution_op, lstm_cell_1_layer_call_fn, lstm_cell_1_layer_call_and_return_conditional_losses while saving (showing 3 of 3). These functions will not be directly callable after loading.\n"
     ]
    },
    {
     "name": "stdout",
     "output_type": "stream",
     "text": [
      "INFO:tensorflow:Assets written to: model2\\assets\n"
     ]
    },
    {
     "name": "stderr",
     "output_type": "stream",
     "text": [
      "INFO:tensorflow:Assets written to: model2\\assets\n"
     ]
    },
    {
     "name": "stdout",
     "output_type": "stream",
     "text": [
      "94/94 [==============================] - 7s 56ms/step - loss: 747.9493 - root_mean_squared_error: 27.3487 - val_loss: 209.6378 - val_root_mean_squared_error: 14.4789\n",
      "Epoch 2/30\n",
      "87/94 [==========================>...] - ETA: 0s - loss: 85.9025 - root_mean_squared_error: 9.2684"
     ]
    },
    {
     "name": "stderr",
     "output_type": "stream",
     "text": [
      "WARNING:absl:Found untraced functions such as _jit_compiled_convolution_op, lstm_cell_1_layer_call_fn, lstm_cell_1_layer_call_and_return_conditional_losses while saving (showing 3 of 3). These functions will not be directly callable after loading.\n"
     ]
    },
    {
     "name": "stdout",
     "output_type": "stream",
     "text": [
      "INFO:tensorflow:Assets written to: model2\\assets\n"
     ]
    },
    {
     "name": "stderr",
     "output_type": "stream",
     "text": [
      "INFO:tensorflow:Assets written to: model2\\assets\n"
     ]
    },
    {
     "name": "stdout",
     "output_type": "stream",
     "text": [
      "94/94 [==============================] - 5s 52ms/step - loss: 83.4430 - root_mean_squared_error: 9.1347 - val_loss: 80.0311 - val_root_mean_squared_error: 8.9460\n",
      "Epoch 3/30\n",
      "92/94 [============================>.] - ETA: 0s - loss: 28.1219 - root_mean_squared_error: 5.3030"
     ]
    },
    {
     "name": "stderr",
     "output_type": "stream",
     "text": [
      "WARNING:absl:Found untraced functions such as _jit_compiled_convolution_op, lstm_cell_1_layer_call_fn, lstm_cell_1_layer_call_and_return_conditional_losses while saving (showing 3 of 3). These functions will not be directly callable after loading.\n"
     ]
    },
    {
     "name": "stdout",
     "output_type": "stream",
     "text": [
      "INFO:tensorflow:Assets written to: model2\\assets\n"
     ]
    },
    {
     "name": "stderr",
     "output_type": "stream",
     "text": [
      "INFO:tensorflow:Assets written to: model2\\assets\n"
     ]
    },
    {
     "name": "stdout",
     "output_type": "stream",
     "text": [
      "94/94 [==============================] - 5s 55ms/step - loss: 27.9321 - root_mean_squared_error: 5.2851 - val_loss: 28.8609 - val_root_mean_squared_error: 5.3722\n",
      "Epoch 4/30\n",
      "87/94 [==========================>...] - ETA: 0s - loss: 16.0552 - root_mean_squared_error: 4.0069"
     ]
    },
    {
     "name": "stderr",
     "output_type": "stream",
     "text": [
      "WARNING:absl:Found untraced functions such as _jit_compiled_convolution_op, lstm_cell_1_layer_call_fn, lstm_cell_1_layer_call_and_return_conditional_losses while saving (showing 3 of 3). These functions will not be directly callable after loading.\n"
     ]
    },
    {
     "name": "stdout",
     "output_type": "stream",
     "text": [
      "INFO:tensorflow:Assets written to: model2\\assets\n"
     ]
    },
    {
     "name": "stderr",
     "output_type": "stream",
     "text": [
      "INFO:tensorflow:Assets written to: model2\\assets\n"
     ]
    },
    {
     "name": "stdout",
     "output_type": "stream",
     "text": [
      "94/94 [==============================] - 4s 47ms/step - loss: 16.0366 - root_mean_squared_error: 4.0046 - val_loss: 20.9670 - val_root_mean_squared_error: 4.5790\n",
      "Epoch 5/30\n",
      "88/94 [===========================>..] - ETA: 0s - loss: 13.1979 - root_mean_squared_error: 3.6329"
     ]
    },
    {
     "name": "stderr",
     "output_type": "stream",
     "text": [
      "WARNING:absl:Found untraced functions such as _jit_compiled_convolution_op, lstm_cell_1_layer_call_fn, lstm_cell_1_layer_call_and_return_conditional_losses while saving (showing 3 of 3). These functions will not be directly callable after loading.\n"
     ]
    },
    {
     "name": "stdout",
     "output_type": "stream",
     "text": [
      "INFO:tensorflow:Assets written to: model2\\assets\n"
     ]
    },
    {
     "name": "stderr",
     "output_type": "stream",
     "text": [
      "INFO:tensorflow:Assets written to: model2\\assets\n"
     ]
    },
    {
     "name": "stdout",
     "output_type": "stream",
     "text": [
      "94/94 [==============================] - 4s 47ms/step - loss: 13.0768 - root_mean_squared_error: 3.6162 - val_loss: 13.9206 - val_root_mean_squared_error: 3.7310\n",
      "Epoch 6/30\n",
      "94/94 [==============================] - ETA: 0s - loss: 11.6145 - root_mean_squared_error: 3.4080"
     ]
    },
    {
     "name": "stderr",
     "output_type": "stream",
     "text": [
      "WARNING:absl:Found untraced functions such as _jit_compiled_convolution_op, lstm_cell_1_layer_call_fn, lstm_cell_1_layer_call_and_return_conditional_losses while saving (showing 3 of 3). These functions will not be directly callable after loading.\n"
     ]
    },
    {
     "name": "stdout",
     "output_type": "stream",
     "text": [
      "INFO:tensorflow:Assets written to: model2\\assets\n"
     ]
    },
    {
     "name": "stderr",
     "output_type": "stream",
     "text": [
      "INFO:tensorflow:Assets written to: model2\\assets\n"
     ]
    },
    {
     "name": "stdout",
     "output_type": "stream",
     "text": [
      "94/94 [==============================] - 4s 42ms/step - loss: 11.6145 - root_mean_squared_error: 3.4080 - val_loss: 12.1693 - val_root_mean_squared_error: 3.4885\n",
      "Epoch 7/30\n",
      "89/94 [===========================>..] - ETA: 0s - loss: 11.5966 - root_mean_squared_error: 3.4054"
     ]
    },
    {
     "name": "stderr",
     "output_type": "stream",
     "text": [
      "WARNING:absl:Found untraced functions such as _jit_compiled_convolution_op, lstm_cell_1_layer_call_fn, lstm_cell_1_layer_call_and_return_conditional_losses while saving (showing 3 of 3). These functions will not be directly callable after loading.\n"
     ]
    },
    {
     "name": "stdout",
     "output_type": "stream",
     "text": [
      "INFO:tensorflow:Assets written to: model2\\assets\n"
     ]
    },
    {
     "name": "stderr",
     "output_type": "stream",
     "text": [
      "INFO:tensorflow:Assets written to: model2\\assets\n"
     ]
    },
    {
     "name": "stdout",
     "output_type": "stream",
     "text": [
      "94/94 [==============================] - 4s 48ms/step - loss: 11.5705 - root_mean_squared_error: 3.4015 - val_loss: 10.7007 - val_root_mean_squared_error: 3.2712\n",
      "Epoch 8/30\n",
      "86/94 [==========================>...] - ETA: 0s - loss: 11.5952 - root_mean_squared_error: 3.4052"
     ]
    },
    {
     "name": "stderr",
     "output_type": "stream",
     "text": [
      "WARNING:absl:Found untraced functions such as _jit_compiled_convolution_op, lstm_cell_1_layer_call_fn, lstm_cell_1_layer_call_and_return_conditional_losses while saving (showing 3 of 3). These functions will not be directly callable after loading.\n"
     ]
    },
    {
     "name": "stdout",
     "output_type": "stream",
     "text": [
      "INFO:tensorflow:Assets written to: model2\\assets\n"
     ]
    },
    {
     "name": "stderr",
     "output_type": "stream",
     "text": [
      "INFO:tensorflow:Assets written to: model2\\assets\n"
     ]
    },
    {
     "name": "stdout",
     "output_type": "stream",
     "text": [
      "94/94 [==============================] - 4s 44ms/step - loss: 11.3805 - root_mean_squared_error: 3.3735 - val_loss: 10.5318 - val_root_mean_squared_error: 3.2453\n",
      "Epoch 9/30\n",
      "94/94 [==============================] - 1s 7ms/step - loss: 10.6789 - root_mean_squared_error: 3.2679 - val_loss: 11.9948 - val_root_mean_squared_error: 3.4634\n",
      "Epoch 10/30\n",
      "93/94 [============================>.] - ETA: 0s - loss: 11.0433 - root_mean_squared_error: 3.3232"
     ]
    },
    {
     "name": "stderr",
     "output_type": "stream",
     "text": [
      "WARNING:absl:Found untraced functions such as _jit_compiled_convolution_op, lstm_cell_1_layer_call_fn, lstm_cell_1_layer_call_and_return_conditional_losses while saving (showing 3 of 3). These functions will not be directly callable after loading.\n"
     ]
    },
    {
     "name": "stdout",
     "output_type": "stream",
     "text": [
      "INFO:tensorflow:Assets written to: model2\\assets\n"
     ]
    },
    {
     "name": "stderr",
     "output_type": "stream",
     "text": [
      "INFO:tensorflow:Assets written to: model2\\assets\n"
     ]
    },
    {
     "name": "stdout",
     "output_type": "stream",
     "text": [
      "94/94 [==============================] - 5s 49ms/step - loss: 11.0939 - root_mean_squared_error: 3.3307 - val_loss: 10.5134 - val_root_mean_squared_error: 3.2424\n",
      "Epoch 11/30\n",
      "86/94 [==========================>...] - ETA: 0s - loss: 10.7474 - root_mean_squared_error: 3.2783"
     ]
    },
    {
     "name": "stderr",
     "output_type": "stream",
     "text": [
      "WARNING:absl:Found untraced functions such as _jit_compiled_convolution_op, lstm_cell_1_layer_call_fn, lstm_cell_1_layer_call_and_return_conditional_losses while saving (showing 3 of 3). These functions will not be directly callable after loading.\n"
     ]
    },
    {
     "name": "stdout",
     "output_type": "stream",
     "text": [
      "INFO:tensorflow:Assets written to: model2\\assets\n"
     ]
    },
    {
     "name": "stderr",
     "output_type": "stream",
     "text": [
      "INFO:tensorflow:Assets written to: model2\\assets\n"
     ]
    },
    {
     "name": "stdout",
     "output_type": "stream",
     "text": [
      "94/94 [==============================] - 4s 48ms/step - loss: 10.6354 - root_mean_squared_error: 3.2612 - val_loss: 10.4854 - val_root_mean_squared_error: 3.2381\n",
      "Epoch 12/30\n",
      "94/94 [==============================] - 1s 8ms/step - loss: 10.4213 - root_mean_squared_error: 3.2282 - val_loss: 12.3593 - val_root_mean_squared_error: 3.5156\n",
      "Epoch 13/30\n",
      "90/94 [===========================>..] - ETA: 0s - loss: 10.4876 - root_mean_squared_error: 3.2385"
     ]
    },
    {
     "name": "stderr",
     "output_type": "stream",
     "text": [
      "WARNING:absl:Found untraced functions such as _jit_compiled_convolution_op, lstm_cell_1_layer_call_fn, lstm_cell_1_layer_call_and_return_conditional_losses while saving (showing 3 of 3). These functions will not be directly callable after loading.\n"
     ]
    },
    {
     "name": "stdout",
     "output_type": "stream",
     "text": [
      "INFO:tensorflow:Assets written to: model2\\assets\n"
     ]
    },
    {
     "name": "stderr",
     "output_type": "stream",
     "text": [
      "INFO:tensorflow:Assets written to: model2\\assets\n"
     ]
    },
    {
     "name": "stdout",
     "output_type": "stream",
     "text": [
      "94/94 [==============================] - 4s 45ms/step - loss: 10.5495 - root_mean_squared_error: 3.2480 - val_loss: 10.3372 - val_root_mean_squared_error: 3.2152\n",
      "Epoch 14/30\n",
      "94/94 [==============================] - 1s 7ms/step - loss: 10.2239 - root_mean_squared_error: 3.1975 - val_loss: 10.3766 - val_root_mean_squared_error: 3.2213\n",
      "Epoch 15/30\n",
      "94/94 [==============================] - 1s 7ms/step - loss: 10.3839 - root_mean_squared_error: 3.2224 - val_loss: 12.1885 - val_root_mean_squared_error: 3.4912\n",
      "Epoch 16/30\n",
      "93/94 [============================>.] - ETA: 0s - loss: 10.2533 - root_mean_squared_error: 3.2021"
     ]
    },
    {
     "name": "stderr",
     "output_type": "stream",
     "text": [
      "WARNING:absl:Found untraced functions such as _jit_compiled_convolution_op, lstm_cell_1_layer_call_fn, lstm_cell_1_layer_call_and_return_conditional_losses while saving (showing 3 of 3). These functions will not be directly callable after loading.\n"
     ]
    },
    {
     "name": "stdout",
     "output_type": "stream",
     "text": [
      "INFO:tensorflow:Assets written to: model2\\assets\n"
     ]
    },
    {
     "name": "stderr",
     "output_type": "stream",
     "text": [
      "INFO:tensorflow:Assets written to: model2\\assets\n"
     ]
    },
    {
     "name": "stdout",
     "output_type": "stream",
     "text": [
      "94/94 [==============================] - 5s 50ms/step - loss: 10.2472 - root_mean_squared_error: 3.2011 - val_loss: 9.9462 - val_root_mean_squared_error: 3.1538\n",
      "Epoch 17/30\n",
      "94/94 [==============================] - 1s 7ms/step - loss: 10.0305 - root_mean_squared_error: 3.1671 - val_loss: 10.0150 - val_root_mean_squared_error: 3.1647\n",
      "Epoch 18/30\n",
      "94/94 [==============================] - 1s 7ms/step - loss: 10.1290 - root_mean_squared_error: 3.1826 - val_loss: 10.2079 - val_root_mean_squared_error: 3.1950\n",
      "Epoch 19/30\n",
      "94/94 [==============================] - 1s 8ms/step - loss: 10.2571 - root_mean_squared_error: 3.2027 - val_loss: 10.4651 - val_root_mean_squared_error: 3.2350\n",
      "Epoch 20/30\n",
      "87/94 [==========================>...] - ETA: 0s - loss: 9.9745 - root_mean_squared_error: 3.1582"
     ]
    },
    {
     "name": "stderr",
     "output_type": "stream",
     "text": [
      "WARNING:absl:Found untraced functions such as _jit_compiled_convolution_op, lstm_cell_1_layer_call_fn, lstm_cell_1_layer_call_and_return_conditional_losses while saving (showing 3 of 3). These functions will not be directly callable after loading.\n"
     ]
    },
    {
     "name": "stdout",
     "output_type": "stream",
     "text": [
      "INFO:tensorflow:Assets written to: model2\\assets\n"
     ]
    },
    {
     "name": "stderr",
     "output_type": "stream",
     "text": [
      "INFO:tensorflow:Assets written to: model2\\assets\n"
     ]
    },
    {
     "name": "stdout",
     "output_type": "stream",
     "text": [
      "94/94 [==============================] - 4s 45ms/step - loss: 9.9171 - root_mean_squared_error: 3.1491 - val_loss: 9.9445 - val_root_mean_squared_error: 3.1535\n",
      "Epoch 21/30\n",
      "93/94 [============================>.] - ETA: 0s - loss: 10.1788 - root_mean_squared_error: 3.1904"
     ]
    },
    {
     "name": "stderr",
     "output_type": "stream",
     "text": [
      "WARNING:absl:Found untraced functions such as _jit_compiled_convolution_op, lstm_cell_1_layer_call_fn, lstm_cell_1_layer_call_and_return_conditional_losses while saving (showing 3 of 3). These functions will not be directly callable after loading.\n"
     ]
    },
    {
     "name": "stdout",
     "output_type": "stream",
     "text": [
      "INFO:tensorflow:Assets written to: model2\\assets\n"
     ]
    },
    {
     "name": "stderr",
     "output_type": "stream",
     "text": [
      "INFO:tensorflow:Assets written to: model2\\assets\n"
     ]
    },
    {
     "name": "stdout",
     "output_type": "stream",
     "text": [
      "94/94 [==============================] - 5s 49ms/step - loss: 10.2831 - root_mean_squared_error: 3.2067 - val_loss: 9.8456 - val_root_mean_squared_error: 3.1378\n",
      "Epoch 22/30\n",
      "91/94 [============================>.] - ETA: 0s - loss: 10.0571 - root_mean_squared_error: 3.1713"
     ]
    },
    {
     "name": "stderr",
     "output_type": "stream",
     "text": [
      "WARNING:absl:Found untraced functions such as _jit_compiled_convolution_op, lstm_cell_1_layer_call_fn, lstm_cell_1_layer_call_and_return_conditional_losses while saving (showing 3 of 3). These functions will not be directly callable after loading.\n"
     ]
    },
    {
     "name": "stdout",
     "output_type": "stream",
     "text": [
      "INFO:tensorflow:Assets written to: model2\\assets\n"
     ]
    },
    {
     "name": "stderr",
     "output_type": "stream",
     "text": [
      "INFO:tensorflow:Assets written to: model2\\assets\n"
     ]
    },
    {
     "name": "stdout",
     "output_type": "stream",
     "text": [
      "94/94 [==============================] - 4s 44ms/step - loss: 10.1093 - root_mean_squared_error: 3.1795 - val_loss: 9.7933 - val_root_mean_squared_error: 3.1294\n",
      "Epoch 23/30\n",
      "93/94 [============================>.] - ETA: 0s - loss: 9.9242 - root_mean_squared_error: 3.1503"
     ]
    },
    {
     "name": "stderr",
     "output_type": "stream",
     "text": [
      "WARNING:absl:Found untraced functions such as _jit_compiled_convolution_op, lstm_cell_1_layer_call_fn, lstm_cell_1_layer_call_and_return_conditional_losses while saving (showing 3 of 3). These functions will not be directly callable after loading.\n"
     ]
    },
    {
     "name": "stdout",
     "output_type": "stream",
     "text": [
      "INFO:tensorflow:Assets written to: model2\\assets\n"
     ]
    },
    {
     "name": "stderr",
     "output_type": "stream",
     "text": [
      "INFO:tensorflow:Assets written to: model2\\assets\n"
     ]
    },
    {
     "name": "stdout",
     "output_type": "stream",
     "text": [
      "94/94 [==============================] - 5s 49ms/step - loss: 9.9431 - root_mean_squared_error: 3.1533 - val_loss: 9.7656 - val_root_mean_squared_error: 3.1250\n",
      "Epoch 24/30\n",
      "94/94 [==============================] - 1s 8ms/step - loss: 10.2843 - root_mean_squared_error: 3.2069 - val_loss: 10.6675 - val_root_mean_squared_error: 3.2661\n",
      "Epoch 25/30\n",
      "94/94 [==============================] - 1s 8ms/step - loss: 10.1023 - root_mean_squared_error: 3.1784 - val_loss: 9.7966 - val_root_mean_squared_error: 3.1300\n",
      "Epoch 26/30\n",
      "94/94 [==============================] - 1s 9ms/step - loss: 9.8482 - root_mean_squared_error: 3.1382 - val_loss: 11.0630 - val_root_mean_squared_error: 3.3261\n",
      "Epoch 27/30\n",
      "94/94 [==============================] - 1s 8ms/step - loss: 9.8977 - root_mean_squared_error: 3.1461 - val_loss: 9.7888 - val_root_mean_squared_error: 3.1287\n",
      "Epoch 28/30\n",
      "94/94 [==============================] - 1s 9ms/step - loss: 10.0416 - root_mean_squared_error: 3.1689 - val_loss: 9.8826 - val_root_mean_squared_error: 3.1437\n",
      "Epoch 29/30\n",
      "94/94 [==============================] - 1s 9ms/step - loss: 10.1281 - root_mean_squared_error: 3.1825 - val_loss: 9.7856 - val_root_mean_squared_error: 3.1282\n",
      "Epoch 30/30\n",
      "94/94 [==============================] - 1s 9ms/step - loss: 9.5468 - root_mean_squared_error: 3.0898 - val_loss: 10.3746 - val_root_mean_squared_error: 3.2210\n"
     ]
    }
   ],
   "source": [
    "cp1 = ModelCheckpoint('model2/', save_best_only=True)\n",
    "model2.compile(loss=MeanSquaredError(), optimizer=Adam(learning_rate=0.0008), metrics=[RootMeanSquaredError()])\n",
    "history=model2.fit(X_train, y_train, validation_data=(X_test, y_test), epochs=30, callbacks=[cp1])"
   ]
  },
  {
   "cell_type": "code",
   "execution_count": 32,
   "metadata": {},
   "outputs": [
    {
     "name": "stdout",
     "output_type": "stream",
     "text": [
      "32/32 [==============================] - 0s 3ms/step\n"
     ]
    }
   ],
   "source": [
    "preds=model2.predict(X_test\n",
    "               )"
   ]
  },
  {
   "cell_type": "code",
   "execution_count": 33,
   "metadata": {},
   "outputs": [],
   "source": [
    "plt.style.use('fivethirtyeight')"
   ]
  },
  {
   "cell_type": "code",
   "execution_count": 34,
   "metadata": {},
   "outputs": [
    {
     "name": "stdout",
     "output_type": "stream",
     "text": [
      "32/32 [==============================] - 0s 3ms/step\n"
     ]
    },
    {
     "data": {
      "image/png": "[encoded data removed]",
      "text/plain": [
       "<Figure size 432x288 with 1 Axes>"
      ]
     },
     "metadata": {},
     "output_type": "display_data"
    }
   ],
   "source": [
    "preds=model2.predict(X_test)\n",
    "plt.plot(preds[:100,0],label='preds')\n",
    "plt.plot(y_test[:100,0], label='actual')\n",
    "plt.legend()\n",
    "plt.show()"
   ]
  },
  {
   "cell_type": "code",
   "execution_count": 35,
   "metadata": {},
   "outputs": [
    {
     "data": {
      "image/png": "[encoded data removed]",
      "text/plain": [
       "<Figure size 432x288 with 1 Axes>"
      ]
     },
     "metadata": {},
     "output_type": "display_data"
    }
   ],
   "source": [
    "plt.plot(history.history['loss'])\n",
    "plt.plot(history.history['val_loss'])\n",
    "plt.title('model loss')\n",
    "plt.ylabel('loss')\n",
    "plt.xlabel('epoch')\n",
    "plt.legend(['train', 'val'], loc='upper right')\n",
    "plt.show()"
   ]
  },
  {
   "cell_type": "code",
   "execution_count": 36,
   "metadata": {},
   "outputs": [
    {
     "name": "stdout",
     "output_type": "stream",
     "text": [
      "1/1 [==============================] - 0s 26ms/step\n",
      "1/1 [==============================] - 0s 19ms/step\n",
      "1/1 [==============================] - 0s 18ms/step\n",
      "1/1 [==============================] - 0s 15ms/step\n",
      "1/1 [==============================] - 0s 17ms/step\n",
      "1/1 [==============================] - 0s 16ms/step\n",
      "1/1 [==============================] - 0s 17ms/step\n",
      "1/1 [==============================] - 0s 18ms/step\n",
      "1/1 [==============================] - 0s 16ms/step\n",
      "1/1 [==============================] - 0s 18ms/step\n"
     ]
    },
    {
     "data": {
      "text/plain": [
       "array([[21.833357, 39.42821 ],\n",
       "       [21.854668, 37.83358 ],\n",
       "       [20.883745, 43.41467 ],\n",
       "       [19.204275, 47.81254 ],\n",
       "       [19.789488, 45.5656  ],\n",
       "       [18.028345, 53.328163],\n",
       "       [17.958265, 51.59789 ],\n",
       "       [20.110384, 46.608482],\n",
       "       [23.361559, 39.119934],\n",
       "       [25.467892, 32.758083]], dtype=float32)"
      ]
     },
     "execution_count": 36,
     "metadata": {},
     "output_type": "execute_result"
    }
   ],
   "source": [
    "forecast_steps=10\n",
    "last_batch=X_test[len(y_test)-time_steps:]\n",
    "forecast=[]\n",
    "for step in range(forecast_steps):\n",
    "    pred=model2.predict(np.array(X_test[step]).reshape(1,time_steps,n_series))\n",
    "    forecast.append(pred)\n",
    "    last_batch=np.append(last_batch[1:],pred)\n",
    "forecast=np.array(forecast)\n",
    "final_forecast=forecast.reshape(forecast_steps,n_series)\n",
    "final_forecast"
   ]
  },
  {
   "cell_type": "code",
   "execution_count": 37,
   "metadata": {},
   "outputs": [
    {
     "name": "stdout",
     "output_type": "stream",
     "text": [
      "1/1 [==============================] - 0s 20ms/step\n"
     ]
    },
    {
     "data": {
      "text/plain": [
       "array([[21.833357, 39.42821 ]], dtype=float32)"
      ]
     },
     "execution_count": 37,
     "metadata": {},
     "output_type": "execute_result"
    }
   ],
   "source": [
    "model2.predict(X_test[0].reshape(1,time_steps,n_series))"
   ]
  },
  {
   "cell_type": "code",
   "execution_count": 38,
   "metadata": {},
   "outputs": [],
   "source": [
    "final_forecast=final_forecast.reshape(forecast_steps,n_series)"
   ]
  },
  {
   "cell_type": "code",
   "execution_count": 39,
   "metadata": {},
   "outputs": [
    {
     "data": {
      "text/plain": [
       "<AxesSubplot:>"
      ]
     },
     "execution_count": 39,
     "metadata": {},
     "output_type": "execute_result"
    },
    {
     "data": {
      "image/png": "[encoded data removed]",
      "text/plain": [
       "<Figure size 432x288 with 1 Axes>"
      ]
     },
     "metadata": {},
     "output_type": "display_data"
    },
    {
     "data": {
      "image/png": "[encoded data removed]",
      "text/plain": [
       "<Figure size 432x288 with 1 Axes>"
      ]
     },
     "metadata": {},
     "output_type": "display_data"
    }
   ],
   "source": [
    "pd.DataFrame(y_test).iloc[7600:].plot()\n",
    "pd.DataFrame(final_forecast).plot()"
   ]
  },
  {
   "cell_type": "code",
   "execution_count": 40,
   "metadata": {},
   "outputs": [
    {
     "data": {
      "image/png": "[encoded data removed]",
      "text/plain": [
       "<Figure size 432x288 with 1 Axes>"
      ]
     },
     "metadata": {},
     "output_type": "display_data"
    }
   ],
   "source": [
    "chart_df=pd.DataFrame(np.append(y_test[-100:], final_forecast).reshape(100+10,-1))\n",
    "chart_df.iloc[:100,1].plot(label='actual')\n",
    "chart_df.iloc[100:,1].plot(label='forecast')\n",
    "plt.legend()\n",
    "plt.show()"
   ]
  },
  {
   "cell_type": "code",
   "execution_count": 42,
   "metadata": {},
   "outputs": [
    {
     "data": {
      "image/png": "[encoded data removed]",
      "text/plain": [
       "<Figure size 432x288 with 1 Axes>"
      ]
     },
     "metadata": {},
     "output_type": "display_data"
    }
   ],
   "source": [
    "chart_df.iloc[:100,0].plot(label='actual')\n",
    "chart_df.iloc[100:,0].plot(label='forecast')\n",
    "plt.legend()\n",
    "plt.show()"
   ]
  },
  {
   "cell_type": "code",
   "execution_count": 139,
   "metadata": {},
   "outputs": [
    {
     "data": {
      "text/plain": [
       "array([[21.0250001 , 36.92499924],\n",
       "       [22.82499981, 32.95000076],\n",
       "       [24.        , 30.32499981],\n",
       "       [22.625     , 33.22500038],\n",
       "       [22.4749999 , 32.92500019],\n",
       "       [21.49999952, 33.8499999 ],\n",
       "       [21.39999962, 36.42499924],\n",
       "       [19.95000029, 38.92500019],\n",
       "       [17.79999971, 45.17499924],\n",
       "       [16.2750001 , 47.30000019],\n",
       "       [16.29999971, 44.82499981],\n",
       "       [15.57500005, 47.07499981],\n",
       "       [15.12500024, 47.64999962],\n",
       "       [15.05000019, 44.52499962],\n",
       "       [14.62500024, 42.95000076],\n",
       "       [14.4749999 , 43.70000076],\n",
       "       [13.59999975, 46.73333359],\n",
       "       [13.67499995, 48.82500076],\n",
       "       [13.4749999 , 50.60000038],\n",
       "       [13.7249999 , 47.42499924],\n",
       "       [13.70000005, 45.85000038],\n",
       "       [16.07500052, 41.00000095],\n",
       "       [16.12499976, 41.54999924],\n",
       "       [16.45000029, 40.77499962],\n",
       "       [18.92500019, 33.77500105],\n",
       "       [19.17500019, 29.4749999 ],\n",
       "       [19.92500019, 26.29999971],\n",
       "       [19.19999981, 26.95000029],\n",
       "       [19.375     , 25.27500057],\n",
       "       [18.92500019, 26.17499971],\n",
       "       [19.3499999 , 24.67499971],\n",
       "       [17.05000019, 25.32499981],\n",
       "       [15.57500005, 26.19999981],\n",
       "       [13.75      , 30.5999999 ],\n",
       "       [13.07500005, 31.72500038],\n",
       "       [13.17499995, 31.80000019],\n",
       "       [13.5999999 , 30.82499981],\n",
       "       [13.14999986, 31.97500038],\n",
       "       [12.67499995, 33.55000019],\n",
       "       [12.19999981, 35.55000019],\n",
       "       [11.9000001 , 35.57499981],\n",
       "       [11.2249999 , 38.32500076],\n",
       "       [11.0250001 , 40.47500038],\n",
       "       [10.6500001 , 42.82499981],\n",
       "       [11.12499976, 43.27500057],\n",
       "       [14.17500019, 36.92499924],\n",
       "       [15.5999999 , 33.30000019],\n",
       "       [16.27499986, 30.02499962],\n",
       "       [17.04999971, 26.125     ],\n",
       "       [19.3499999 , 22.27499962],\n",
       "       [20.5       , 21.87500048],\n",
       "       [22.        , 20.20000029],\n",
       "       [21.7249999 , 20.90000057],\n",
       "       [21.55000067, 20.82499981],\n",
       "       [21.        , 22.25000048],\n",
       "       [18.57499981, 26.57500029],\n",
       "       [15.54999995, 33.94999981],\n",
       "       [14.32500005, 37.95000076],\n",
       "       [13.54999995, 39.40000057],\n",
       "       [13.07500005, 41.25      ],\n",
       "       [13.5       , 37.75      ],\n",
       "       [13.47500014, 37.35000038],\n",
       "       [12.7249999 , 40.77499962],\n",
       "       [12.        , 44.15000057],\n",
       "       [10.45000005, 48.72500038],\n",
       "       [10.05000019, 49.67500019],\n",
       "       [ 9.55000019, 51.        ],\n",
       "       [ 9.12499976, 52.375     ],\n",
       "       [ 8.92500019, 52.72499943],\n",
       "       [13.5250001 , 39.97500038],\n",
       "       [17.82500029, 30.67499971],\n",
       "       [21.125     , 23.72500038],\n",
       "       [24.        , 19.27499962],\n",
       "       [26.45000029, 16.44999981],\n",
       "       [28.67499971, 13.70000005],\n",
       "       [28.4749999 , 13.07499981],\n",
       "       [30.        , 11.07499981],\n",
       "       [29.42500019, 10.37500024],\n",
       "       [28.875     ,  9.87500024],\n",
       "       [22.80000051, 21.69999949],\n",
       "       [19.92499971, 33.04999971],\n",
       "       [17.5       , 40.72499943],\n",
       "       [16.44999981, 46.55000019],\n",
       "       [15.5250001 , 48.97500038],\n",
       "       [14.2750001 , 52.5       ],\n",
       "       [14.17499995, 51.44999981],\n",
       "       [13.8499999 , 51.15000057],\n",
       "       [12.0999999 , 56.30000019],\n",
       "       [11.32500005, 58.89999866],\n",
       "       [11.82500005, 55.97500038],\n",
       "       [10.4000001 , 59.875     ],\n",
       "       [ 9.54999995, 63.14999962],\n",
       "       [ 9.67499995, 61.92499924],\n",
       "       [13.54999971, 48.875     ],\n",
       "       [18.15000057, 36.27500057],\n",
       "       [21.85000038, 29.25      ],\n",
       "       [24.32500029, 23.7249999 ],\n",
       "       [26.89999962, 18.34999967],\n",
       "       [28.32499981, 13.54999995],\n",
       "       [28.50000048, 13.125     ]])"
      ]
     },
     "execution_count": 139,
     "metadata": {},
     "output_type": "execute_result"
    }
   ],
   "source": [
    "y_test[-100:]"
   ]
  },
  {
   "cell_type": "code",
   "execution_count": null,
   "metadata": {},
   "outputs": [],
   "source": []
  }
 ],
 "metadata": {
  "kernelspec": {
   "display_name": "base",
   "language": "python",
   "name": "python3"
  },
  "language_info": {
   "codemirror_mode": {
    "name": "ipython",
    "version": 3
   },
   "file_extension": ".py",
   "mimetype": "text/x-python",
   "name": "python",
   "nbconvert_exporter": "python",
   "pygments_lexer": "ipython3",
   "version": "3.9.7"
  },
  "orig_nbformat": 4
 },
 "nbformat": 4,
 "nbformat_minor": 2
}
