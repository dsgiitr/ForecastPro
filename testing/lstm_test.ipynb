{
 "cells": [
  {
   "cell_type": "code",
   "execution_count": 57,
   "metadata": {},
   "outputs": [],
   "source": [
    "import numpy as np\n",
    "import pandas as pd\n",
    "import matplotlib.pyplot as plt\n",
    "import seaborn as sns\n",
    "import tensorflow as tf\n",
    "from tensorflow.keras.models import Sequential\n",
    "from tensorflow.keras.layers import *\n",
    "from tensorflow.keras.callbacks import ModelCheckpoint\n",
    "from tensorflow.keras.losses import MeanSquaredError\n",
    "from tensorflow.keras.metrics import RootMeanSquaredError\n",
    "from tensorflow.keras.optimizers import Adam"
   ]
  },
  {
   "cell_type": "code",
   "execution_count": 58,
   "metadata": {},
   "outputs": [],
   "source": [
    "def df_to_X_y(df, window_size=7):\n",
    "  df_as_np = df.to_numpy()\n",
    "  X = []\n",
    "  y = []\n",
    "  for i in range(len(df_as_np)-window_size):\n",
    "    row = [[a] for a in df_as_np[i:i+window_size]]\n",
    "    X.append(row)\n",
    "    label = df_as_np[i+window_size]\n",
    "    y.append(label)\n",
    "  return np.array(X), np.array(y)"
   ]
  },
  {
   "cell_type": "code",
   "execution_count": 61,
   "metadata": {},
   "outputs": [
    {
     "data": {
      "text/html": [
       "<div>\n",
       "<style scoped>\n",
       "    .dataframe tbody tr th:only-of-type {\n",
       "        vertical-align: middle;\n",
       "    }\n",
       "\n",
       "    .dataframe tbody tr th {\n",
       "        vertical-align: top;\n",
       "    }\n",
       "\n",
       "    .dataframe thead th {\n",
       "        text-align: right;\n",
       "    }\n",
       "</style>\n",
       "<table border=\"1\" class=\"dataframe\">\n",
       "  <thead>\n",
       "    <tr style=\"text-align: right;\">\n",
       "      <th></th>\n",
       "      <th>Date</th>\n",
       "      <th>Time</th>\n",
       "      <th>CO(GT)</th>\n",
       "      <th>PT08.S1(CO)</th>\n",
       "      <th>NMHC(GT)</th>\n",
       "      <th>C6H6(GT)</th>\n",
       "      <th>PT08.S2(NMHC)</th>\n",
       "      <th>NOx(GT)</th>\n",
       "      <th>PT08.S3(NOx)</th>\n",
       "      <th>NO2(GT)</th>\n",
       "      <th>PT08.S4(NO2)</th>\n",
       "      <th>PT08.S5(O3)</th>\n",
       "      <th>T</th>\n",
       "      <th>RH</th>\n",
       "      <th>AH</th>\n",
       "    </tr>\n",
       "  </thead>\n",
       "  <tbody>\n",
       "    <tr>\n",
       "      <th>0</th>\n",
       "      <td>2004-03-10</td>\n",
       "      <td>18:00:00</td>\n",
       "      <td>2.6</td>\n",
       "      <td>1360.00</td>\n",
       "      <td>150</td>\n",
       "      <td>11.881723</td>\n",
       "      <td>1045.50</td>\n",
       "      <td>166.0</td>\n",
       "      <td>1056.25</td>\n",
       "      <td>113.0</td>\n",
       "      <td>1692.00</td>\n",
       "      <td>1267.50</td>\n",
       "      <td>13.600</td>\n",
       "      <td>48.875001</td>\n",
       "      <td>0.757754</td>\n",
       "    </tr>\n",
       "    <tr>\n",
       "      <th>1</th>\n",
       "      <td>2004-03-10</td>\n",
       "      <td>19:00:00</td>\n",
       "      <td>2.0</td>\n",
       "      <td>1292.25</td>\n",
       "      <td>112</td>\n",
       "      <td>9.397165</td>\n",
       "      <td>954.75</td>\n",
       "      <td>103.0</td>\n",
       "      <td>1173.75</td>\n",
       "      <td>92.0</td>\n",
       "      <td>1558.75</td>\n",
       "      <td>972.25</td>\n",
       "      <td>13.300</td>\n",
       "      <td>47.700000</td>\n",
       "      <td>0.725487</td>\n",
       "    </tr>\n",
       "    <tr>\n",
       "      <th>2</th>\n",
       "      <td>2004-03-10</td>\n",
       "      <td>20:00:00</td>\n",
       "      <td>2.2</td>\n",
       "      <td>1402.00</td>\n",
       "      <td>88</td>\n",
       "      <td>8.997817</td>\n",
       "      <td>939.25</td>\n",
       "      <td>131.0</td>\n",
       "      <td>1140.00</td>\n",
       "      <td>114.0</td>\n",
       "      <td>1554.50</td>\n",
       "      <td>1074.00</td>\n",
       "      <td>11.900</td>\n",
       "      <td>53.975000</td>\n",
       "      <td>0.750239</td>\n",
       "    </tr>\n",
       "    <tr>\n",
       "      <th>3</th>\n",
       "      <td>2004-03-10</td>\n",
       "      <td>21:00:00</td>\n",
       "      <td>2.2</td>\n",
       "      <td>1375.50</td>\n",
       "      <td>80</td>\n",
       "      <td>9.228796</td>\n",
       "      <td>948.25</td>\n",
       "      <td>172.0</td>\n",
       "      <td>1092.00</td>\n",
       "      <td>122.0</td>\n",
       "      <td>1583.75</td>\n",
       "      <td>1203.25</td>\n",
       "      <td>11.000</td>\n",
       "      <td>60.000000</td>\n",
       "      <td>0.786713</td>\n",
       "    </tr>\n",
       "    <tr>\n",
       "      <th>4</th>\n",
       "      <td>2004-03-10</td>\n",
       "      <td>22:00:00</td>\n",
       "      <td>1.6</td>\n",
       "      <td>1272.25</td>\n",
       "      <td>51</td>\n",
       "      <td>6.518224</td>\n",
       "      <td>835.50</td>\n",
       "      <td>131.0</td>\n",
       "      <td>1205.00</td>\n",
       "      <td>116.0</td>\n",
       "      <td>1490.00</td>\n",
       "      <td>1110.00</td>\n",
       "      <td>11.150</td>\n",
       "      <td>59.575001</td>\n",
       "      <td>0.788794</td>\n",
       "    </tr>\n",
       "    <tr>\n",
       "      <th>...</th>\n",
       "      <td>...</td>\n",
       "      <td>...</td>\n",
       "      <td>...</td>\n",
       "      <td>...</td>\n",
       "      <td>...</td>\n",
       "      <td>...</td>\n",
       "      <td>...</td>\n",
       "      <td>...</td>\n",
       "      <td>...</td>\n",
       "      <td>...</td>\n",
       "      <td>...</td>\n",
       "      <td>...</td>\n",
       "      <td>...</td>\n",
       "      <td>...</td>\n",
       "      <td>...</td>\n",
       "    </tr>\n",
       "    <tr>\n",
       "      <th>9352</th>\n",
       "      <td>2005-04-04</td>\n",
       "      <td>10:00:00</td>\n",
       "      <td>3.1</td>\n",
       "      <td>1314.25</td>\n",
       "      <td>-200</td>\n",
       "      <td>13.529605</td>\n",
       "      <td>1101.25</td>\n",
       "      <td>471.7</td>\n",
       "      <td>538.50</td>\n",
       "      <td>189.8</td>\n",
       "      <td>1374.25</td>\n",
       "      <td>1728.50</td>\n",
       "      <td>21.850</td>\n",
       "      <td>29.250000</td>\n",
       "      <td>0.756824</td>\n",
       "    </tr>\n",
       "    <tr>\n",
       "      <th>9353</th>\n",
       "      <td>2005-04-04</td>\n",
       "      <td>11:00:00</td>\n",
       "      <td>2.4</td>\n",
       "      <td>1162.50</td>\n",
       "      <td>-200</td>\n",
       "      <td>11.355157</td>\n",
       "      <td>1027.00</td>\n",
       "      <td>353.3</td>\n",
       "      <td>603.75</td>\n",
       "      <td>179.2</td>\n",
       "      <td>1263.50</td>\n",
       "      <td>1269.00</td>\n",
       "      <td>24.325</td>\n",
       "      <td>23.725000</td>\n",
       "      <td>0.711864</td>\n",
       "    </tr>\n",
       "    <tr>\n",
       "      <th>9354</th>\n",
       "      <td>2005-04-04</td>\n",
       "      <td>12:00:00</td>\n",
       "      <td>2.4</td>\n",
       "      <td>1142.00</td>\n",
       "      <td>-200</td>\n",
       "      <td>12.374538</td>\n",
       "      <td>1062.50</td>\n",
       "      <td>293.0</td>\n",
       "      <td>603.25</td>\n",
       "      <td>174.7</td>\n",
       "      <td>1240.75</td>\n",
       "      <td>1092.00</td>\n",
       "      <td>26.900</td>\n",
       "      <td>18.350000</td>\n",
       "      <td>0.640649</td>\n",
       "    </tr>\n",
       "    <tr>\n",
       "      <th>9355</th>\n",
       "      <td>2005-04-04</td>\n",
       "      <td>13:00:00</td>\n",
       "      <td>2.1</td>\n",
       "      <td>1002.50</td>\n",
       "      <td>-200</td>\n",
       "      <td>9.547187</td>\n",
       "      <td>960.50</td>\n",
       "      <td>234.5</td>\n",
       "      <td>701.50</td>\n",
       "      <td>155.7</td>\n",
       "      <td>1041.00</td>\n",
       "      <td>769.75</td>\n",
       "      <td>28.325</td>\n",
       "      <td>13.550000</td>\n",
       "      <td>0.513866</td>\n",
       "    </tr>\n",
       "    <tr>\n",
       "      <th>9356</th>\n",
       "      <td>2005-04-04</td>\n",
       "      <td>14:00:00</td>\n",
       "      <td>2.2</td>\n",
       "      <td>1070.75</td>\n",
       "      <td>-200</td>\n",
       "      <td>11.932060</td>\n",
       "      <td>1047.25</td>\n",
       "      <td>265.2</td>\n",
       "      <td>654.00</td>\n",
       "      <td>167.7</td>\n",
       "      <td>1128.50</td>\n",
       "      <td>816.00</td>\n",
       "      <td>28.500</td>\n",
       "      <td>13.125000</td>\n",
       "      <td>0.502804</td>\n",
       "    </tr>\n",
       "  </tbody>\n",
       "</table>\n",
       "<p>9357 rows × 15 columns</p>\n",
       "</div>"
      ],
      "text/plain": [
       "           Date      Time  CO(GT)  PT08.S1(CO)  NMHC(GT)   C6H6(GT)  \\\n",
       "0    2004-03-10  18:00:00     2.6      1360.00       150  11.881723   \n",
       "1    2004-03-10  19:00:00     2.0      1292.25       112   9.397165   \n",
       "2    2004-03-10  20:00:00     2.2      1402.00        88   8.997817   \n",
       "3    2004-03-10  21:00:00     2.2      1375.50        80   9.228796   \n",
       "4    2004-03-10  22:00:00     1.6      1272.25        51   6.518224   \n",
       "...         ...       ...     ...          ...       ...        ...   \n",
       "9352 2005-04-04  10:00:00     3.1      1314.25      -200  13.529605   \n",
       "9353 2005-04-04  11:00:00     2.4      1162.50      -200  11.355157   \n",
       "9354 2005-04-04  12:00:00     2.4      1142.00      -200  12.374538   \n",
       "9355 2005-04-04  13:00:00     2.1      1002.50      -200   9.547187   \n",
       "9356 2005-04-04  14:00:00     2.2      1070.75      -200  11.932060   \n",
       "\n",
       "      PT08.S2(NMHC)  NOx(GT)  PT08.S3(NOx)  NO2(GT)  PT08.S4(NO2)  \\\n",
       "0           1045.50    166.0       1056.25    113.0       1692.00   \n",
       "1            954.75    103.0       1173.75     92.0       1558.75   \n",
       "2            939.25    131.0       1140.00    114.0       1554.50   \n",
       "3            948.25    172.0       1092.00    122.0       1583.75   \n",
       "4            835.50    131.0       1205.00    116.0       1490.00   \n",
       "...             ...      ...           ...      ...           ...   \n",
       "9352        1101.25    471.7        538.50    189.8       1374.25   \n",
       "9353        1027.00    353.3        603.75    179.2       1263.50   \n",
       "9354        1062.50    293.0        603.25    174.7       1240.75   \n",
       "9355         960.50    234.5        701.50    155.7       1041.00   \n",
       "9356        1047.25    265.2        654.00    167.7       1128.50   \n",
       "\n",
       "      PT08.S5(O3)       T         RH        AH  \n",
       "0         1267.50  13.600  48.875001  0.757754  \n",
       "1          972.25  13.300  47.700000  0.725487  \n",
       "2         1074.00  11.900  53.975000  0.750239  \n",
       "3         1203.25  11.000  60.000000  0.786713  \n",
       "4         1110.00  11.150  59.575001  0.788794  \n",
       "...           ...     ...        ...       ...  \n",
       "9352      1728.50  21.850  29.250000  0.756824  \n",
       "9353      1269.00  24.325  23.725000  0.711864  \n",
       "9354      1092.00  26.900  18.350000  0.640649  \n",
       "9355       769.75  28.325  13.550000  0.513866  \n",
       "9356       816.00  28.500  13.125000  0.502804  \n",
       "\n",
       "[9357 rows x 15 columns]"
      ]
     },
     "execution_count": 61,
     "metadata": {},
     "output_type": "execute_result"
    }
   ],
   "source": [
    "df=pd.read_excel(r'C:\\Users\\ved14\\OneDrive\\Desktop\\extracurriculars\\ForecastPro\\data\\AirQualityUCI.xlsx')\n",
    "df"
   ]
  },
  {
   "cell_type": "code",
   "execution_count": 62,
   "metadata": {},
   "outputs": [
    {
     "data": {
      "image/png": "[encoded data removed]",
      "text/plain": [
       "<Figure size 432x288 with 1 Axes>"
      ]
     },
     "metadata": {
      "needs_background": "light"
     },
     "output_type": "display_data"
    }
   ],
   "source": [
    "df['NOx(GT)'].replace(-200,df['NOx(GT)'].mean(),inplace=True)\n",
    "df['T'].replace(-200,df['T'].mean(),inplace=True)\n",
    "df['RH'].replace(-200,df['RH'].mean(),inplace=True)\n",
    "df['T'].iloc[:2000].plot()\n",
    "df['RH'].iloc[:2000].plot()\n",
    "plt.show()"
   ]
  },
  {
   "cell_type": "code",
   "execution_count": 45,
   "metadata": {},
   "outputs": [
    {
     "data": {
      "text/plain": [
       "array([[13.5999999 , 48.87500095],\n",
       "       [13.29999995, 47.69999981],\n",
       "       [11.9000001 , 53.97500038],\n",
       "       ...,\n",
       "       [26.89999962, 18.34999967],\n",
       "       [28.32499981, 13.54999995],\n",
       "       [28.50000048, 13.125     ]])"
      ]
     },
     "execution_count": 45,
     "metadata": {},
     "output_type": "execute_result"
    }
   ],
   "source": [
    "X=np.array(df[['T','RH']])\n",
    "X"
   ]
  },
  {
   "cell_type": "code",
   "execution_count": 146,
   "metadata": {},
   "outputs": [
    {
     "name": "stdout",
     "output_type": "stream",
     "text": [
      "Model: \"sequential_8\"\n",
      "_________________________________________________________________\n",
      " Layer (type)                Output Shape              Param #   \n",
      "=================================================================\n",
      " conv1d_8 (Conv1D)           (None, 6, 32)             160       \n",
      "                                                                 \n",
      " lstm (LSTM)                 (None, 64)                24832     \n",
      "                                                                 \n",
      " dense_18 (Dense)            (None, 32)                2080      \n",
      "                                                                 \n",
      " dense_19 (Dense)            (None, 16)                528       \n",
      "                                                                 \n",
      " dense_20 (Dense)            (None, 2)                 34        \n",
      "                                                                 \n",
      "=================================================================\n",
      "Total params: 27,634\n",
      "Trainable params: 27,634\n",
      "Non-trainable params: 0\n",
      "_________________________________________________________________\n"
     ]
    }
   ],
   "source": [
    "time_steps=7\n",
    "n_series=2\n",
    "\n",
    "model2 = Sequential()\n",
    "model2.add(InputLayer((time_steps, n_series)))\n",
    "model2.add(Conv1D(32, kernel_size=2)),\n",
    "model2.add(LSTM(64))\n",
    "#model2.add(Flatten())\n",
    "model2.add(Dense(32, 'relu'))\n",
    "model2.add(Dense(16,'relu'))\n",
    "model2.add(Dense(n_series, 'linear'))\n",
    "\n",
    "model2.summary()"
   ]
  },
  {
   "cell_type": "code",
   "execution_count": 147,
   "metadata": {},
   "outputs": [],
   "source": [
    "X,y=df_to_X_y(df[['T','RH']],window_size=time_steps)\n",
    "X=X.reshape(-1,time_steps,2)"
   ]
  },
  {
   "cell_type": "code",
   "execution_count": 148,
   "metadata": {},
   "outputs": [],
   "source": [
    "X=X.reshape(-1,time_steps,2)"
   ]
  },
  {
   "cell_type": "code",
   "execution_count": 149,
   "metadata": {},
   "outputs": [],
   "source": [
    "X_train=X[:3000]\n",
    "y_train=y[:3000]\n",
    "X_test=X[3000:4000]\n",
    "y_test=y[3000:4000]"
   ]
  },
  {
   "cell_type": "code",
   "execution_count": null,
   "metadata": {},
   "outputs": [],
   "source": []
  },
  {
   "cell_type": "code",
   "execution_count": 150,
   "metadata": {},
   "outputs": [
    {
     "name": "stdout",
     "output_type": "stream",
     "text": [
      "Epoch 1/100\n",
      "84/94 [=========================>....] - ETA: 0s - loss: 1276.6677 - root_mean_squared_error: 35.7305"
     ]
    },
    {
     "name": "stderr",
     "output_type": "stream",
     "text": [
      "WARNING:absl:Found untraced functions such as _jit_compiled_convolution_op, lstm_cell_layer_call_fn, lstm_cell_layer_call_and_return_conditional_losses while saving (showing 3 of 3). These functions will not be directly callable after loading.\n"
     ]
    },
    {
     "name": "stdout",
     "output_type": "stream",
     "text": [
      "INFO:tensorflow:Assets written to: model2\\assets\n"
     ]
    },
    {
     "name": "stderr",
     "output_type": "stream",
     "text": [
      "INFO:tensorflow:Assets written to: model2\\assets\n"
     ]
    },
    {
     "name": "stdout",
     "output_type": "stream",
     "text": [
      "94/94 [==============================] - 7s 50ms/step - loss: 1273.8906 - root_mean_squared_error: 35.6916 - val_loss: 1161.7029 - val_root_mean_squared_error: 34.0838\n",
      "Epoch 2/100\n",
      "85/94 [==========================>...] - ETA: 0s - loss: 1121.3402 - root_mean_squared_error: 33.4864"
     ]
    },
    {
     "name": "stderr",
     "output_type": "stream",
     "text": [
      "WARNING:absl:Found untraced functions such as _jit_compiled_convolution_op, lstm_cell_layer_call_fn, lstm_cell_layer_call_and_return_conditional_losses while saving (showing 3 of 3). These functions will not be directly callable after loading.\n"
     ]
    },
    {
     "name": "stdout",
     "output_type": "stream",
     "text": [
      "INFO:tensorflow:Assets written to: model2\\assets\n"
     ]
    },
    {
     "name": "stderr",
     "output_type": "stream",
     "text": [
      "INFO:tensorflow:Assets written to: model2\\assets\n"
     ]
    },
    {
     "name": "stdout",
     "output_type": "stream",
     "text": [
      "94/94 [==============================] - 4s 48ms/step - loss: 1110.3108 - root_mean_squared_error: 33.3213 - val_loss: 956.3782 - val_root_mean_squared_error: 30.9254\n",
      "Epoch 3/100\n",
      "89/94 [===========================>..] - ETA: 0s - loss: 884.0084 - root_mean_squared_error: 29.7323"
     ]
    },
    {
     "name": "stderr",
     "output_type": "stream",
     "text": [
      "WARNING:absl:Found untraced functions such as _jit_compiled_convolution_op, lstm_cell_layer_call_fn, lstm_cell_layer_call_and_return_conditional_losses while saving (showing 3 of 3). These functions will not be directly callable after loading.\n"
     ]
    },
    {
     "name": "stdout",
     "output_type": "stream",
     "text": [
      "INFO:tensorflow:Assets written to: model2\\assets\n"
     ]
    },
    {
     "name": "stderr",
     "output_type": "stream",
     "text": [
      "INFO:tensorflow:Assets written to: model2\\assets\n"
     ]
    },
    {
     "name": "stdout",
     "output_type": "stream",
     "text": [
      "94/94 [==============================] - 4s 43ms/step - loss: 876.4688 - root_mean_squared_error: 29.6052 - val_loss: 698.6387 - val_root_mean_squared_error: 26.4318\n",
      "Epoch 4/100\n",
      "92/94 [============================>.] - ETA: 0s - loss: 639.8000 - root_mean_squared_error: 25.2943"
     ]
    },
    {
     "name": "stderr",
     "output_type": "stream",
     "text": [
      "WARNING:absl:Found untraced functions such as _jit_compiled_convolution_op, lstm_cell_layer_call_fn, lstm_cell_layer_call_and_return_conditional_losses while saving (showing 3 of 3). These functions will not be directly callable after loading.\n"
     ]
    },
    {
     "name": "stdout",
     "output_type": "stream",
     "text": [
      "INFO:tensorflow:Assets written to: model2\\assets\n"
     ]
    },
    {
     "name": "stderr",
     "output_type": "stream",
     "text": [
      "INFO:tensorflow:Assets written to: model2\\assets\n"
     ]
    },
    {
     "name": "stdout",
     "output_type": "stream",
     "text": [
      "94/94 [==============================] - 4s 46ms/step - loss: 637.8273 - root_mean_squared_error: 25.2552 - val_loss: 487.8439 - val_root_mean_squared_error: 22.0872\n",
      "Epoch 5/100\n",
      "93/94 [============================>.] - ETA: 0s - loss: 456.8018 - root_mean_squared_error: 21.3729"
     ]
    },
    {
     "name": "stderr",
     "output_type": "stream",
     "text": [
      "WARNING:absl:Found untraced functions such as _jit_compiled_convolution_op, lstm_cell_layer_call_fn, lstm_cell_layer_call_and_return_conditional_losses while saving (showing 3 of 3). These functions will not be directly callable after loading.\n"
     ]
    },
    {
     "name": "stdout",
     "output_type": "stream",
     "text": [
      "INFO:tensorflow:Assets written to: model2\\assets\n"
     ]
    },
    {
     "name": "stderr",
     "output_type": "stream",
     "text": [
      "INFO:tensorflow:Assets written to: model2\\assets\n"
     ]
    },
    {
     "name": "stdout",
     "output_type": "stream",
     "text": [
      "94/94 [==============================] - 4s 41ms/step - loss: 456.7767 - root_mean_squared_error: 21.3723 - val_loss: 337.1082 - val_root_mean_squared_error: 18.3605\n",
      "Epoch 6/100\n",
      "86/94 [==========================>...] - ETA: 0s - loss: 327.3823 - root_mean_squared_error: 18.0937"
     ]
    },
    {
     "name": "stderr",
     "output_type": "stream",
     "text": [
      "WARNING:absl:Found untraced functions such as _jit_compiled_convolution_op, lstm_cell_layer_call_fn, lstm_cell_layer_call_and_return_conditional_losses while saving (showing 3 of 3). These functions will not be directly callable after loading.\n"
     ]
    },
    {
     "name": "stdout",
     "output_type": "stream",
     "text": [
      "INFO:tensorflow:Assets written to: model2\\assets\n"
     ]
    },
    {
     "name": "stderr",
     "output_type": "stream",
     "text": [
      "INFO:tensorflow:Assets written to: model2\\assets\n"
     ]
    },
    {
     "name": "stdout",
     "output_type": "stream",
     "text": [
      "94/94 [==============================] - 4s 46ms/step - loss: 325.5936 - root_mean_squared_error: 18.0442 - val_loss: 231.6845 - val_root_mean_squared_error: 15.2212\n",
      "Epoch 7/100\n",
      "89/94 [===========================>..] - ETA: 0s - loss: 240.6708 - root_mean_squared_error: 15.5136"
     ]
    },
    {
     "name": "stderr",
     "output_type": "stream",
     "text": [
      "WARNING:absl:Found untraced functions such as _jit_compiled_convolution_op, lstm_cell_layer_call_fn, lstm_cell_layer_call_and_return_conditional_losses while saving (showing 3 of 3). These functions will not be directly callable after loading.\n"
     ]
    },
    {
     "name": "stdout",
     "output_type": "stream",
     "text": [
      "INFO:tensorflow:Assets written to: model2\\assets\n"
     ]
    },
    {
     "name": "stderr",
     "output_type": "stream",
     "text": [
      "INFO:tensorflow:Assets written to: model2\\assets\n"
     ]
    },
    {
     "name": "stdout",
     "output_type": "stream",
     "text": [
      "94/94 [==============================] - 4s 42ms/step - loss: 238.1530 - root_mean_squared_error: 15.4322 - val_loss: 173.6375 - val_root_mean_squared_error: 13.1772\n",
      "Epoch 8/100\n",
      "92/94 [============================>.] - ETA: 0s - loss: 186.6598 - root_mean_squared_error: 13.6623"
     ]
    },
    {
     "name": "stderr",
     "output_type": "stream",
     "text": [
      "WARNING:absl:Found untraced functions such as _jit_compiled_convolution_op, lstm_cell_layer_call_fn, lstm_cell_layer_call_and_return_conditional_losses while saving (showing 3 of 3). These functions will not be directly callable after loading.\n"
     ]
    },
    {
     "name": "stdout",
     "output_type": "stream",
     "text": [
      "INFO:tensorflow:Assets written to: model2\\assets\n"
     ]
    },
    {
     "name": "stderr",
     "output_type": "stream",
     "text": [
      "INFO:tensorflow:Assets written to: model2\\assets\n"
     ]
    },
    {
     "name": "stdout",
     "output_type": "stream",
     "text": [
      "94/94 [==============================] - 4s 46ms/step - loss: 186.2833 - root_mean_squared_error: 13.6486 - val_loss: 144.4716 - val_root_mean_squared_error: 12.0196\n",
      "Epoch 9/100\n",
      "89/94 [===========================>..] - ETA: 0s - loss: 154.5026 - root_mean_squared_error: 12.4299"
     ]
    },
    {
     "name": "stderr",
     "output_type": "stream",
     "text": [
      "WARNING:absl:Found untraced functions such as _jit_compiled_convolution_op, lstm_cell_layer_call_fn, lstm_cell_layer_call_and_return_conditional_losses while saving (showing 3 of 3). These functions will not be directly callable after loading.\n"
     ]
    },
    {
     "name": "stdout",
     "output_type": "stream",
     "text": [
      "INFO:tensorflow:Assets written to: model2\\assets\n"
     ]
    },
    {
     "name": "stderr",
     "output_type": "stream",
     "text": [
      "INFO:tensorflow:Assets written to: model2\\assets\n"
     ]
    },
    {
     "name": "stdout",
     "output_type": "stream",
     "text": [
      "94/94 [==============================] - 4s 41ms/step - loss: 154.4765 - root_mean_squared_error: 12.4289 - val_loss: 132.7429 - val_root_mean_squared_error: 11.5214\n",
      "Epoch 10/100\n",
      "85/94 [==========================>...] - ETA: 0s - loss: 133.6913 - root_mean_squared_error: 11.5625"
     ]
    },
    {
     "name": "stderr",
     "output_type": "stream",
     "text": [
      "WARNING:absl:Found untraced functions such as _jit_compiled_convolution_op, lstm_cell_layer_call_fn, lstm_cell_layer_call_and_return_conditional_losses while saving (showing 3 of 3). These functions will not be directly callable after loading.\n"
     ]
    },
    {
     "name": "stdout",
     "output_type": "stream",
     "text": [
      "INFO:tensorflow:Assets written to: model2\\assets\n"
     ]
    },
    {
     "name": "stderr",
     "output_type": "stream",
     "text": [
      "INFO:tensorflow:Assets written to: model2\\assets\n"
     ]
    },
    {
     "name": "stdout",
     "output_type": "stream",
     "text": [
      "94/94 [==============================] - 4s 46ms/step - loss: 132.9026 - root_mean_squared_error: 11.5283 - val_loss: 125.7392 - val_root_mean_squared_error: 11.2133\n",
      "Epoch 11/100\n",
      "86/94 [==========================>...] - ETA: 0s - loss: 116.3226 - root_mean_squared_error: 10.7853"
     ]
    },
    {
     "name": "stderr",
     "output_type": "stream",
     "text": [
      "WARNING:absl:Found untraced functions such as _jit_compiled_convolution_op, lstm_cell_layer_call_fn, lstm_cell_layer_call_and_return_conditional_losses while saving (showing 3 of 3). These functions will not be directly callable after loading.\n"
     ]
    },
    {
     "name": "stdout",
     "output_type": "stream",
     "text": [
      "INFO:tensorflow:Assets written to: model2\\assets\n"
     ]
    },
    {
     "name": "stderr",
     "output_type": "stream",
     "text": [
      "INFO:tensorflow:Assets written to: model2\\assets\n"
     ]
    },
    {
     "name": "stdout",
     "output_type": "stream",
     "text": [
      "94/94 [==============================] - 4s 42ms/step - loss: 114.1465 - root_mean_squared_error: 10.6839 - val_loss: 119.3301 - val_root_mean_squared_error: 10.9238\n",
      "Epoch 12/100\n",
      "89/94 [===========================>..] - ETA: 0s - loss: 98.0908 - root_mean_squared_error: 9.9041"
     ]
    },
    {
     "name": "stderr",
     "output_type": "stream",
     "text": [
      "WARNING:absl:Found untraced functions such as _jit_compiled_convolution_op, lstm_cell_layer_call_fn, lstm_cell_layer_call_and_return_conditional_losses while saving (showing 3 of 3). These functions will not be directly callable after loading.\n"
     ]
    },
    {
     "name": "stdout",
     "output_type": "stream",
     "text": [
      "INFO:tensorflow:Assets written to: model2\\assets\n"
     ]
    },
    {
     "name": "stderr",
     "output_type": "stream",
     "text": [
      "INFO:tensorflow:Assets written to: model2\\assets\n"
     ]
    },
    {
     "name": "stdout",
     "output_type": "stream",
     "text": [
      "94/94 [==============================] - 4s 46ms/step - loss: 98.2627 - root_mean_squared_error: 9.9128 - val_loss: 114.1412 - val_root_mean_squared_error: 10.6837\n",
      "Epoch 13/100\n",
      "87/94 [==========================>...] - ETA: 0s - loss: 84.2136 - root_mean_squared_error: 9.1768"
     ]
    },
    {
     "name": "stderr",
     "output_type": "stream",
     "text": [
      "WARNING:absl:Found untraced functions such as _jit_compiled_convolution_op, lstm_cell_layer_call_fn, lstm_cell_layer_call_and_return_conditional_losses while saving (showing 3 of 3). These functions will not be directly callable after loading.\n"
     ]
    },
    {
     "name": "stdout",
     "output_type": "stream",
     "text": [
      "INFO:tensorflow:Assets written to: model2\\assets\n"
     ]
    },
    {
     "name": "stderr",
     "output_type": "stream",
     "text": [
      "INFO:tensorflow:Assets written to: model2\\assets\n"
     ]
    },
    {
     "name": "stdout",
     "output_type": "stream",
     "text": [
      "94/94 [==============================] - 4s 43ms/step - loss: 83.8189 - root_mean_squared_error: 9.1553 - val_loss: 92.2923 - val_root_mean_squared_error: 9.6069\n",
      "Epoch 14/100\n",
      "89/94 [===========================>..] - ETA: 0s - loss: 67.7668 - root_mean_squared_error: 8.2321"
     ]
    },
    {
     "name": "stderr",
     "output_type": "stream",
     "text": [
      "WARNING:absl:Found untraced functions such as _jit_compiled_convolution_op, lstm_cell_layer_call_fn, lstm_cell_layer_call_and_return_conditional_losses while saving (showing 3 of 3). These functions will not be directly callable after loading.\n"
     ]
    },
    {
     "name": "stdout",
     "output_type": "stream",
     "text": [
      "INFO:tensorflow:Assets written to: model2\\assets\n"
     ]
    },
    {
     "name": "stderr",
     "output_type": "stream",
     "text": [
      "INFO:tensorflow:Assets written to: model2\\assets\n"
     ]
    },
    {
     "name": "stdout",
     "output_type": "stream",
     "text": [
      "94/94 [==============================] - 4s 46ms/step - loss: 67.2603 - root_mean_squared_error: 8.2012 - val_loss: 76.0140 - val_root_mean_squared_error: 8.7186\n",
      "Epoch 15/100\n",
      "87/94 [==========================>...] - ETA: 0s - loss: 56.2247 - root_mean_squared_error: 7.4983"
     ]
    },
    {
     "name": "stderr",
     "output_type": "stream",
     "text": [
      "WARNING:absl:Found untraced functions such as _jit_compiled_convolution_op, lstm_cell_layer_call_fn, lstm_cell_layer_call_and_return_conditional_losses while saving (showing 3 of 3). These functions will not be directly callable after loading.\n"
     ]
    },
    {
     "name": "stdout",
     "output_type": "stream",
     "text": [
      "INFO:tensorflow:Assets written to: model2\\assets\n"
     ]
    },
    {
     "name": "stderr",
     "output_type": "stream",
     "text": [
      "INFO:tensorflow:Assets written to: model2\\assets\n"
     ]
    },
    {
     "name": "stdout",
     "output_type": "stream",
     "text": [
      "94/94 [==============================] - 4s 44ms/step - loss: 55.1829 - root_mean_squared_error: 7.4285 - val_loss: 66.0298 - val_root_mean_squared_error: 8.1259\n",
      "Epoch 16/100\n",
      "93/94 [============================>.] - ETA: 0s - loss: 45.6325 - root_mean_squared_error: 6.7552"
     ]
    },
    {
     "name": "stderr",
     "output_type": "stream",
     "text": [
      "WARNING:absl:Found untraced functions such as _jit_compiled_convolution_op, lstm_cell_layer_call_fn, lstm_cell_layer_call_and_return_conditional_losses while saving (showing 3 of 3). These functions will not be directly callable after loading.\n"
     ]
    },
    {
     "name": "stdout",
     "output_type": "stream",
     "text": [
      "INFO:tensorflow:Assets written to: model2\\assets\n"
     ]
    },
    {
     "name": "stderr",
     "output_type": "stream",
     "text": [
      "INFO:tensorflow:Assets written to: model2\\assets\n"
     ]
    },
    {
     "name": "stdout",
     "output_type": "stream",
     "text": [
      "94/94 [==============================] - 4s 46ms/step - loss: 45.5517 - root_mean_squared_error: 6.7492 - val_loss: 57.1445 - val_root_mean_squared_error: 7.5594\n",
      "Epoch 17/100\n",
      "84/94 [=========================>....] - ETA: 0s - loss: 37.6948 - root_mean_squared_error: 6.1396"
     ]
    },
    {
     "name": "stderr",
     "output_type": "stream",
     "text": [
      "WARNING:absl:Found untraced functions such as _jit_compiled_convolution_op, lstm_cell_layer_call_fn, lstm_cell_layer_call_and_return_conditional_losses while saving (showing 3 of 3). These functions will not be directly callable after loading.\n"
     ]
    },
    {
     "name": "stdout",
     "output_type": "stream",
     "text": [
      "INFO:tensorflow:Assets written to: model2\\assets\n"
     ]
    },
    {
     "name": "stderr",
     "output_type": "stream",
     "text": [
      "INFO:tensorflow:Assets written to: model2\\assets\n"
     ]
    },
    {
     "name": "stdout",
     "output_type": "stream",
     "text": [
      "94/94 [==============================] - 4s 44ms/step - loss: 37.6732 - root_mean_squared_error: 6.1379 - val_loss: 48.5886 - val_root_mean_squared_error: 6.9706\n",
      "Epoch 18/100\n",
      "89/94 [===========================>..] - ETA: 0s - loss: 31.9442 - root_mean_squared_error: 5.6519"
     ]
    },
    {
     "name": "stderr",
     "output_type": "stream",
     "text": [
      "WARNING:absl:Found untraced functions such as _jit_compiled_convolution_op, lstm_cell_layer_call_fn, lstm_cell_layer_call_and_return_conditional_losses while saving (showing 3 of 3). These functions will not be directly callable after loading.\n"
     ]
    },
    {
     "name": "stdout",
     "output_type": "stream",
     "text": [
      "INFO:tensorflow:Assets written to: model2\\assets\n"
     ]
    },
    {
     "name": "stderr",
     "output_type": "stream",
     "text": [
      "INFO:tensorflow:Assets written to: model2\\assets\n"
     ]
    },
    {
     "name": "stdout",
     "output_type": "stream",
     "text": [
      "94/94 [==============================] - 4s 48ms/step - loss: 31.4557 - root_mean_squared_error: 5.6085 - val_loss: 41.2932 - val_root_mean_squared_error: 6.4260\n",
      "Epoch 19/100\n",
      "86/94 [==========================>...] - ETA: 0s - loss: 26.9318 - root_mean_squared_error: 5.1896"
     ]
    },
    {
     "name": "stderr",
     "output_type": "stream",
     "text": [
      "WARNING:absl:Found untraced functions such as _jit_compiled_convolution_op, lstm_cell_layer_call_fn, lstm_cell_layer_call_and_return_conditional_losses while saving (showing 3 of 3). These functions will not be directly callable after loading.\n"
     ]
    },
    {
     "name": "stdout",
     "output_type": "stream",
     "text": [
      "INFO:tensorflow:Assets written to: model2\\assets\n"
     ]
    },
    {
     "name": "stderr",
     "output_type": "stream",
     "text": [
      "INFO:tensorflow:Assets written to: model2\\assets\n"
     ]
    },
    {
     "name": "stdout",
     "output_type": "stream",
     "text": [
      "94/94 [==============================] - 4s 42ms/step - loss: 26.5585 - root_mean_squared_error: 5.1535 - val_loss: 35.3400 - val_root_mean_squared_error: 5.9447\n",
      "Epoch 20/100\n",
      "89/94 [===========================>..] - ETA: 0s - loss: 22.8779 - root_mean_squared_error: 4.7831"
     ]
    },
    {
     "name": "stderr",
     "output_type": "stream",
     "text": [
      "WARNING:absl:Found untraced functions such as _jit_compiled_convolution_op, lstm_cell_layer_call_fn, lstm_cell_layer_call_and_return_conditional_losses while saving (showing 3 of 3). These functions will not be directly callable after loading.\n"
     ]
    },
    {
     "name": "stdout",
     "output_type": "stream",
     "text": [
      "INFO:tensorflow:Assets written to: model2\\assets\n"
     ]
    },
    {
     "name": "stderr",
     "output_type": "stream",
     "text": [
      "INFO:tensorflow:Assets written to: model2\\assets\n"
     ]
    },
    {
     "name": "stdout",
     "output_type": "stream",
     "text": [
      "94/94 [==============================] - 4s 46ms/step - loss: 22.7178 - root_mean_squared_error: 4.7663 - val_loss: 31.7293 - val_root_mean_squared_error: 5.6329\n",
      "Epoch 21/100\n",
      "91/94 [============================>.] - ETA: 0s - loss: 19.9925 - root_mean_squared_error: 4.4713"
     ]
    },
    {
     "name": "stderr",
     "output_type": "stream",
     "text": [
      "WARNING:absl:Found untraced functions such as _jit_compiled_convolution_op, lstm_cell_layer_call_fn, lstm_cell_layer_call_and_return_conditional_losses while saving (showing 3 of 3). These functions will not be directly callable after loading.\n"
     ]
    },
    {
     "name": "stdout",
     "output_type": "stream",
     "text": [
      "INFO:tensorflow:Assets written to: model2\\assets\n"
     ]
    },
    {
     "name": "stderr",
     "output_type": "stream",
     "text": [
      "INFO:tensorflow:Assets written to: model2\\assets\n"
     ]
    },
    {
     "name": "stdout",
     "output_type": "stream",
     "text": [
      "94/94 [==============================] - 4s 42ms/step - loss: 19.8861 - root_mean_squared_error: 4.4594 - val_loss: 27.3112 - val_root_mean_squared_error: 5.2260\n",
      "Epoch 22/100\n",
      "85/94 [==========================>...] - ETA: 0s - loss: 17.7165 - root_mean_squared_error: 4.2091"
     ]
    },
    {
     "name": "stderr",
     "output_type": "stream",
     "text": [
      "WARNING:absl:Found untraced functions such as _jit_compiled_convolution_op, lstm_cell_layer_call_fn, lstm_cell_layer_call_and_return_conditional_losses while saving (showing 3 of 3). These functions will not be directly callable after loading.\n"
     ]
    },
    {
     "name": "stdout",
     "output_type": "stream",
     "text": [
      "INFO:tensorflow:Assets written to: model2\\assets\n"
     ]
    },
    {
     "name": "stderr",
     "output_type": "stream",
     "text": [
      "INFO:tensorflow:Assets written to: model2\\assets\n"
     ]
    },
    {
     "name": "stdout",
     "output_type": "stream",
     "text": [
      "94/94 [==============================] - 4s 46ms/step - loss: 17.6730 - root_mean_squared_error: 4.2039 - val_loss: 23.2580 - val_root_mean_squared_error: 4.8227\n",
      "Epoch 23/100\n",
      "92/94 [============================>.] - ETA: 0s - loss: 15.7657 - root_mean_squared_error: 3.9706"
     ]
    },
    {
     "name": "stderr",
     "output_type": "stream",
     "text": [
      "WARNING:absl:Found untraced functions such as _jit_compiled_convolution_op, lstm_cell_layer_call_fn, lstm_cell_layer_call_and_return_conditional_losses while saving (showing 3 of 3). These functions will not be directly callable after loading.\n"
     ]
    },
    {
     "name": "stdout",
     "output_type": "stream",
     "text": [
      "INFO:tensorflow:Assets written to: model2\\assets\n"
     ]
    },
    {
     "name": "stderr",
     "output_type": "stream",
     "text": [
      "INFO:tensorflow:Assets written to: model2\\assets\n"
     ]
    },
    {
     "name": "stdout",
     "output_type": "stream",
     "text": [
      "94/94 [==============================] - 4s 42ms/step - loss: 15.7453 - root_mean_squared_error: 3.9680 - val_loss: 20.0802 - val_root_mean_squared_error: 4.4811\n",
      "Epoch 24/100\n",
      "92/94 [============================>.] - ETA: 0s - loss: 14.4324 - root_mean_squared_error: 3.7990"
     ]
    },
    {
     "name": "stderr",
     "output_type": "stream",
     "text": [
      "WARNING:absl:Found untraced functions such as _jit_compiled_convolution_op, lstm_cell_layer_call_fn, lstm_cell_layer_call_and_return_conditional_losses while saving (showing 3 of 3). These functions will not be directly callable after loading.\n"
     ]
    },
    {
     "name": "stdout",
     "output_type": "stream",
     "text": [
      "INFO:tensorflow:Assets written to: model2\\assets\n"
     ]
    },
    {
     "name": "stderr",
     "output_type": "stream",
     "text": [
      "INFO:tensorflow:Assets written to: model2\\assets\n"
     ]
    },
    {
     "name": "stdout",
     "output_type": "stream",
     "text": [
      "94/94 [==============================] - 4s 42ms/step - loss: 14.4179 - root_mean_squared_error: 3.7971 - val_loss: 18.9604 - val_root_mean_squared_error: 4.3544\n",
      "Epoch 25/100\n",
      "89/94 [===========================>..] - ETA: 0s - loss: 13.5402 - root_mean_squared_error: 3.6797"
     ]
    },
    {
     "name": "stderr",
     "output_type": "stream",
     "text": [
      "WARNING:absl:Found untraced functions such as _jit_compiled_convolution_op, lstm_cell_layer_call_fn, lstm_cell_layer_call_and_return_conditional_losses while saving (showing 3 of 3). These functions will not be directly callable after loading.\n"
     ]
    },
    {
     "name": "stdout",
     "output_type": "stream",
     "text": [
      "INFO:tensorflow:Assets written to: model2\\assets\n"
     ]
    },
    {
     "name": "stderr",
     "output_type": "stream",
     "text": [
      "INFO:tensorflow:Assets written to: model2\\assets\n"
     ]
    },
    {
     "name": "stdout",
     "output_type": "stream",
     "text": [
      "94/94 [==============================] - 4s 47ms/step - loss: 13.5070 - root_mean_squared_error: 3.6752 - val_loss: 16.2479 - val_root_mean_squared_error: 4.0309\n",
      "Epoch 26/100\n",
      "86/94 [==========================>...] - ETA: 0s - loss: 12.8399 - root_mean_squared_error: 3.5833"
     ]
    },
    {
     "name": "stderr",
     "output_type": "stream",
     "text": [
      "WARNING:absl:Found untraced functions such as _jit_compiled_convolution_op, lstm_cell_layer_call_fn, lstm_cell_layer_call_and_return_conditional_losses while saving (showing 3 of 3). These functions will not be directly callable after loading.\n"
     ]
    },
    {
     "name": "stdout",
     "output_type": "stream",
     "text": [
      "INFO:tensorflow:Assets written to: model2\\assets\n"
     ]
    },
    {
     "name": "stderr",
     "output_type": "stream",
     "text": [
      "INFO:tensorflow:Assets written to: model2\\assets\n"
     ]
    },
    {
     "name": "stdout",
     "output_type": "stream",
     "text": [
      "94/94 [==============================] - 4s 42ms/step - loss: 12.8042 - root_mean_squared_error: 3.5783 - val_loss: 15.0643 - val_root_mean_squared_error: 3.8813\n",
      "Epoch 27/100\n",
      "92/94 [============================>.] - ETA: 0s - loss: 12.3118 - root_mean_squared_error: 3.5088"
     ]
    },
    {
     "name": "stderr",
     "output_type": "stream",
     "text": [
      "WARNING:absl:Found untraced functions such as _jit_compiled_convolution_op, lstm_cell_layer_call_fn, lstm_cell_layer_call_and_return_conditional_losses while saving (showing 3 of 3). These functions will not be directly callable after loading.\n"
     ]
    },
    {
     "name": "stdout",
     "output_type": "stream",
     "text": [
      "INFO:tensorflow:Assets written to: model2\\assets\n"
     ]
    },
    {
     "name": "stderr",
     "output_type": "stream",
     "text": [
      "INFO:tensorflow:Assets written to: model2\\assets\n"
     ]
    },
    {
     "name": "stdout",
     "output_type": "stream",
     "text": [
      "94/94 [==============================] - 4s 45ms/step - loss: 12.2261 - root_mean_squared_error: 3.4966 - val_loss: 14.5398 - val_root_mean_squared_error: 3.8131\n",
      "Epoch 28/100\n",
      "87/94 [==========================>...] - ETA: 0s - loss: 11.7942 - root_mean_squared_error: 3.4343"
     ]
    },
    {
     "name": "stderr",
     "output_type": "stream",
     "text": [
      "WARNING:absl:Found untraced functions such as _jit_compiled_convolution_op, lstm_cell_layer_call_fn, lstm_cell_layer_call_and_return_conditional_losses while saving (showing 3 of 3). These functions will not be directly callable after loading.\n"
     ]
    },
    {
     "name": "stdout",
     "output_type": "stream",
     "text": [
      "INFO:tensorflow:Assets written to: model2\\assets\n"
     ]
    },
    {
     "name": "stderr",
     "output_type": "stream",
     "text": [
      "INFO:tensorflow:Assets written to: model2\\assets\n"
     ]
    },
    {
     "name": "stdout",
     "output_type": "stream",
     "text": [
      "94/94 [==============================] - 4s 42ms/step - loss: 11.7393 - root_mean_squared_error: 3.4263 - val_loss: 14.0832 - val_root_mean_squared_error: 3.7528\n",
      "Epoch 29/100\n",
      "94/94 [==============================] - 1s 7ms/step - loss: 11.5096 - root_mean_squared_error: 3.3926 - val_loss: 14.4711 - val_root_mean_squared_error: 3.8041\n",
      "Epoch 30/100\n",
      "92/94 [============================>.] - ETA: 0s - loss: 11.2079 - root_mean_squared_error: 3.3478"
     ]
    },
    {
     "name": "stderr",
     "output_type": "stream",
     "text": [
      "WARNING:absl:Found untraced functions such as _jit_compiled_convolution_op, lstm_cell_layer_call_fn, lstm_cell_layer_call_and_return_conditional_losses while saving (showing 3 of 3). These functions will not be directly callable after loading.\n"
     ]
    },
    {
     "name": "stdout",
     "output_type": "stream",
     "text": [
      "INFO:tensorflow:Assets written to: model2\\assets\n"
     ]
    },
    {
     "name": "stderr",
     "output_type": "stream",
     "text": [
      "INFO:tensorflow:Assets written to: model2\\assets\n"
     ]
    },
    {
     "name": "stdout",
     "output_type": "stream",
     "text": [
      "94/94 [==============================] - 4s 45ms/step - loss: 11.2443 - root_mean_squared_error: 3.3533 - val_loss: 12.6544 - val_root_mean_squared_error: 3.5573\n",
      "Epoch 31/100\n",
      "94/94 [==============================] - 1s 6ms/step - loss: 11.0111 - root_mean_squared_error: 3.3183 - val_loss: 12.9128 - val_root_mean_squared_error: 3.5934\n",
      "Epoch 32/100\n",
      "87/94 [==========================>...] - ETA: 0s - loss: 10.9844 - root_mean_squared_error: 3.3143"
     ]
    },
    {
     "name": "stderr",
     "output_type": "stream",
     "text": [
      "WARNING:absl:Found untraced functions such as _jit_compiled_convolution_op, lstm_cell_layer_call_fn, lstm_cell_layer_call_and_return_conditional_losses while saving (showing 3 of 3). These functions will not be directly callable after loading.\n"
     ]
    },
    {
     "name": "stdout",
     "output_type": "stream",
     "text": [
      "INFO:tensorflow:Assets written to: model2\\assets\n"
     ]
    },
    {
     "name": "stderr",
     "output_type": "stream",
     "text": [
      "INFO:tensorflow:Assets written to: model2\\assets\n"
     ]
    },
    {
     "name": "stdout",
     "output_type": "stream",
     "text": [
      "94/94 [==============================] - 4s 43ms/step - loss: 10.8280 - root_mean_squared_error: 3.2906 - val_loss: 12.1624 - val_root_mean_squared_error: 3.4875\n",
      "Epoch 33/100\n",
      "94/94 [==============================] - 1s 6ms/step - loss: 10.7580 - root_mean_squared_error: 3.2799 - val_loss: 12.5439 - val_root_mean_squared_error: 3.5417\n",
      "Epoch 34/100\n",
      "94/94 [==============================] - 1s 6ms/step - loss: 10.6103 - root_mean_squared_error: 3.2573 - val_loss: 12.2874 - val_root_mean_squared_error: 3.5053\n",
      "Epoch 35/100\n",
      "94/94 [==============================] - ETA: 0s - loss: 10.5389 - root_mean_squared_error: 3.2464"
     ]
    },
    {
     "name": "stderr",
     "output_type": "stream",
     "text": [
      "WARNING:absl:Found untraced functions such as _jit_compiled_convolution_op, lstm_cell_layer_call_fn, lstm_cell_layer_call_and_return_conditional_losses while saving (showing 3 of 3). These functions will not be directly callable after loading.\n"
     ]
    },
    {
     "name": "stdout",
     "output_type": "stream",
     "text": [
      "INFO:tensorflow:Assets written to: model2\\assets\n"
     ]
    },
    {
     "name": "stderr",
     "output_type": "stream",
     "text": [
      "INFO:tensorflow:Assets written to: model2\\assets\n"
     ]
    },
    {
     "name": "stdout",
     "output_type": "stream",
     "text": [
      "94/94 [==============================] - 4s 47ms/step - loss: 10.5389 - root_mean_squared_error: 3.2464 - val_loss: 10.9296 - val_root_mean_squared_error: 3.3060\n",
      "Epoch 36/100\n",
      "94/94 [==============================] - 1s 6ms/step - loss: 10.4405 - root_mean_squared_error: 3.2312 - val_loss: 11.4935 - val_root_mean_squared_error: 3.3902\n",
      "Epoch 37/100\n",
      "88/94 [===========================>..] - ETA: 0s - loss: 10.4417 - root_mean_squared_error: 3.2314"
     ]
    },
    {
     "name": "stderr",
     "output_type": "stream",
     "text": [
      "WARNING:absl:Found untraced functions such as _jit_compiled_convolution_op, lstm_cell_layer_call_fn, lstm_cell_layer_call_and_return_conditional_losses while saving (showing 3 of 3). These functions will not be directly callable after loading.\n"
     ]
    },
    {
     "name": "stdout",
     "output_type": "stream",
     "text": [
      "INFO:tensorflow:Assets written to: model2\\assets\n"
     ]
    },
    {
     "name": "stderr",
     "output_type": "stream",
     "text": [
      "INFO:tensorflow:Assets written to: model2\\assets\n"
     ]
    },
    {
     "name": "stdout",
     "output_type": "stream",
     "text": [
      "94/94 [==============================] - 4s 44ms/step - loss: 10.3502 - root_mean_squared_error: 3.2172 - val_loss: 10.5425 - val_root_mean_squared_error: 3.2469\n",
      "Epoch 38/100\n",
      "87/94 [==========================>...] - ETA: 0s - loss: 10.1310 - root_mean_squared_error: 3.1829"
     ]
    },
    {
     "name": "stderr",
     "output_type": "stream",
     "text": [
      "WARNING:absl:Found untraced functions such as _jit_compiled_convolution_op, lstm_cell_layer_call_fn, lstm_cell_layer_call_and_return_conditional_losses while saving (showing 3 of 3). These functions will not be directly callable after loading.\n"
     ]
    },
    {
     "name": "stdout",
     "output_type": "stream",
     "text": [
      "INFO:tensorflow:Assets written to: model2\\assets\n"
     ]
    },
    {
     "name": "stderr",
     "output_type": "stream",
     "text": [
      "INFO:tensorflow:Assets written to: model2\\assets\n"
     ]
    },
    {
     "name": "stdout",
     "output_type": "stream",
     "text": [
      "94/94 [==============================] - 4s 46ms/step - loss: 10.1706 - root_mean_squared_error: 3.1891 - val_loss: 10.1939 - val_root_mean_squared_error: 3.1928\n",
      "Epoch 39/100\n",
      "94/94 [==============================] - 1s 6ms/step - loss: 10.1523 - root_mean_squared_error: 3.1863 - val_loss: 10.4173 - val_root_mean_squared_error: 3.2276\n",
      "Epoch 40/100\n",
      "94/94 [==============================] - 1s 6ms/step - loss: 10.0034 - root_mean_squared_error: 3.1628 - val_loss: 10.7248 - val_root_mean_squared_error: 3.2749\n",
      "Epoch 41/100\n",
      "94/94 [==============================] - 1s 6ms/step - loss: 10.0031 - root_mean_squared_error: 3.1628 - val_loss: 10.7829 - val_root_mean_squared_error: 3.2837\n",
      "Epoch 42/100\n",
      "94/94 [==============================] - 1s 6ms/step - loss: 10.1102 - root_mean_squared_error: 3.1797 - val_loss: 10.8566 - val_root_mean_squared_error: 3.2949\n",
      "Epoch 43/100\n",
      "89/94 [===========================>..] - ETA: 0s - loss: 9.9168 - root_mean_squared_error: 3.1491"
     ]
    },
    {
     "name": "stderr",
     "output_type": "stream",
     "text": [
      "WARNING:absl:Found untraced functions such as _jit_compiled_convolution_op, lstm_cell_layer_call_fn, lstm_cell_layer_call_and_return_conditional_losses while saving (showing 3 of 3). These functions will not be directly callable after loading.\n"
     ]
    },
    {
     "name": "stdout",
     "output_type": "stream",
     "text": [
      "INFO:tensorflow:Assets written to: model2\\assets\n"
     ]
    },
    {
     "name": "stderr",
     "output_type": "stream",
     "text": [
      "INFO:tensorflow:Assets written to: model2\\assets\n"
     ]
    },
    {
     "name": "stdout",
     "output_type": "stream",
     "text": [
      "94/94 [==============================] - 4s 43ms/step - loss: 9.8691 - root_mean_squared_error: 3.1415 - val_loss: 10.0914 - val_root_mean_squared_error: 3.1767\n",
      "Epoch 44/100\n",
      "90/94 [===========================>..] - ETA: 0s - loss: 9.8690 - root_mean_squared_error: 3.1415 "
     ]
    },
    {
     "name": "stderr",
     "output_type": "stream",
     "text": [
      "WARNING:absl:Found untraced functions such as _jit_compiled_convolution_op, lstm_cell_layer_call_fn, lstm_cell_layer_call_and_return_conditional_losses while saving (showing 3 of 3). These functions will not be directly callable after loading.\n"
     ]
    },
    {
     "name": "stdout",
     "output_type": "stream",
     "text": [
      "INFO:tensorflow:Assets written to: model2\\assets\n"
     ]
    },
    {
     "name": "stderr",
     "output_type": "stream",
     "text": [
      "INFO:tensorflow:Assets written to: model2\\assets\n"
     ]
    },
    {
     "name": "stdout",
     "output_type": "stream",
     "text": [
      "94/94 [==============================] - 4s 47ms/step - loss: 9.9364 - root_mean_squared_error: 3.1522 - val_loss: 9.7782 - val_root_mean_squared_error: 3.1270\n",
      "Epoch 45/100\n",
      "94/94 [==============================] - 1s 6ms/step - loss: 9.8267 - root_mean_squared_error: 3.1348 - val_loss: 9.7799 - val_root_mean_squared_error: 3.1273\n",
      "Epoch 46/100\n",
      "94/94 [==============================] - 1s 6ms/step - loss: 9.7512 - root_mean_squared_error: 3.1227 - val_loss: 9.8234 - val_root_mean_squared_error: 3.1342\n",
      "Epoch 47/100\n",
      "92/94 [============================>.] - ETA: 0s - loss: 9.6886 - root_mean_squared_error: 3.1127"
     ]
    },
    {
     "name": "stderr",
     "output_type": "stream",
     "text": [
      "WARNING:absl:Found untraced functions such as _jit_compiled_convolution_op, lstm_cell_layer_call_fn, lstm_cell_layer_call_and_return_conditional_losses while saving (showing 3 of 3). These functions will not be directly callable after loading.\n"
     ]
    },
    {
     "name": "stdout",
     "output_type": "stream",
     "text": [
      "INFO:tensorflow:Assets written to: model2\\assets\n"
     ]
    },
    {
     "name": "stderr",
     "output_type": "stream",
     "text": [
      "INFO:tensorflow:Assets written to: model2\\assets\n"
     ]
    },
    {
     "name": "stdout",
     "output_type": "stream",
     "text": [
      "94/94 [==============================] - 4s 43ms/step - loss: 9.7075 - root_mean_squared_error: 3.1157 - val_loss: 9.7622 - val_root_mean_squared_error: 3.1244\n",
      "Epoch 48/100\n",
      "85/94 [==========================>...] - ETA: 0s - loss: 9.8866 - root_mean_squared_error: 3.1443"
     ]
    },
    {
     "name": "stderr",
     "output_type": "stream",
     "text": [
      "WARNING:absl:Found untraced functions such as _jit_compiled_convolution_op, lstm_cell_layer_call_fn, lstm_cell_layer_call_and_return_conditional_losses while saving (showing 3 of 3). These functions will not be directly callable after loading.\n"
     ]
    },
    {
     "name": "stdout",
     "output_type": "stream",
     "text": [
      "INFO:tensorflow:Assets written to: model2\\assets\n"
     ]
    },
    {
     "name": "stderr",
     "output_type": "stream",
     "text": [
      "INFO:tensorflow:Assets written to: model2\\assets\n"
     ]
    },
    {
     "name": "stdout",
     "output_type": "stream",
     "text": [
      "94/94 [==============================] - 4s 46ms/step - loss: 9.7518 - root_mean_squared_error: 3.1228 - val_loss: 9.5406 - val_root_mean_squared_error: 3.0888\n",
      "Epoch 49/100\n",
      "94/94 [==============================] - 1s 7ms/step - loss: 9.8146 - root_mean_squared_error: 3.1328 - val_loss: 9.8125 - val_root_mean_squared_error: 3.1325\n",
      "Epoch 50/100\n",
      "94/94 [==============================] - 1s 6ms/step - loss: 9.6564 - root_mean_squared_error: 3.1075 - val_loss: 9.6040 - val_root_mean_squared_error: 3.0990\n",
      "Epoch 51/100\n",
      "88/94 [===========================>..] - ETA: 0s - loss: 9.5165 - root_mean_squared_error: 3.0849"
     ]
    },
    {
     "name": "stderr",
     "output_type": "stream",
     "text": [
      "WARNING:absl:Found untraced functions such as _jit_compiled_convolution_op, lstm_cell_layer_call_fn, lstm_cell_layer_call_and_return_conditional_losses while saving (showing 3 of 3). These functions will not be directly callable after loading.\n"
     ]
    },
    {
     "name": "stdout",
     "output_type": "stream",
     "text": [
      "INFO:tensorflow:Assets written to: model2\\assets\n"
     ]
    },
    {
     "name": "stderr",
     "output_type": "stream",
     "text": [
      "INFO:tensorflow:Assets written to: model2\\assets\n"
     ]
    },
    {
     "name": "stdout",
     "output_type": "stream",
     "text": [
      "94/94 [==============================] - 4s 43ms/step - loss: 9.6919 - root_mean_squared_error: 3.1132 - val_loss: 9.3077 - val_root_mean_squared_error: 3.0509\n",
      "Epoch 52/100\n",
      "94/94 [==============================] - 1s 8ms/step - loss: 9.6768 - root_mean_squared_error: 3.1108 - val_loss: 9.5405 - val_root_mean_squared_error: 3.0888\n",
      "Epoch 53/100\n",
      "94/94 [==============================] - 1s 7ms/step - loss: 9.6631 - root_mean_squared_error: 3.1085 - val_loss: 9.5045 - val_root_mean_squared_error: 3.0829\n",
      "Epoch 54/100\n",
      "94/94 [==============================] - 1s 7ms/step - loss: 9.5265 - root_mean_squared_error: 3.0865 - val_loss: 9.8266 - val_root_mean_squared_error: 3.1347\n",
      "Epoch 55/100\n",
      "94/94 [==============================] - 1s 7ms/step - loss: 9.4762 - root_mean_squared_error: 3.0783 - val_loss: 9.5568 - val_root_mean_squared_error: 3.0914\n",
      "Epoch 56/100\n",
      "94/94 [==============================] - 1s 7ms/step - loss: 9.6349 - root_mean_squared_error: 3.1040 - val_loss: 9.4270 - val_root_mean_squared_error: 3.0703\n",
      "Epoch 57/100\n",
      "94/94 [==============================] - 1s 7ms/step - loss: 9.6772 - root_mean_squared_error: 3.1108 - val_loss: 9.5331 - val_root_mean_squared_error: 3.0876\n",
      "Epoch 58/100\n",
      "94/94 [==============================] - 1s 7ms/step - loss: 9.5806 - root_mean_squared_error: 3.0952 - val_loss: 10.3108 - val_root_mean_squared_error: 3.2110\n",
      "Epoch 59/100\n",
      "94/94 [==============================] - 1s 7ms/step - loss: 9.4537 - root_mean_squared_error: 3.0747 - val_loss: 9.3199 - val_root_mean_squared_error: 3.0528\n",
      "Epoch 60/100\n",
      "91/94 [============================>.] - ETA: 0s - loss: 9.4146 - root_mean_squared_error: 3.0683"
     ]
    },
    {
     "name": "stderr",
     "output_type": "stream",
     "text": [
      "WARNING:absl:Found untraced functions such as _jit_compiled_convolution_op, lstm_cell_layer_call_fn, lstm_cell_layer_call_and_return_conditional_losses while saving (showing 3 of 3). These functions will not be directly callable after loading.\n"
     ]
    },
    {
     "name": "stdout",
     "output_type": "stream",
     "text": [
      "INFO:tensorflow:Assets written to: model2\\assets\n"
     ]
    },
    {
     "name": "stderr",
     "output_type": "stream",
     "text": [
      "INFO:tensorflow:Assets written to: model2\\assets\n"
     ]
    },
    {
     "name": "stdout",
     "output_type": "stream",
     "text": [
      "94/94 [==============================] - 4s 48ms/step - loss: 9.4538 - root_mean_squared_error: 3.0747 - val_loss: 9.2143 - val_root_mean_squared_error: 3.0355\n",
      "Epoch 61/100\n",
      "88/94 [===========================>..] - ETA: 0s - loss: 9.5109 - root_mean_squared_error: 3.0840"
     ]
    },
    {
     "name": "stderr",
     "output_type": "stream",
     "text": [
      "WARNING:absl:Found untraced functions such as _jit_compiled_convolution_op, lstm_cell_layer_call_fn, lstm_cell_layer_call_and_return_conditional_losses while saving (showing 3 of 3). These functions will not be directly callable after loading.\n"
     ]
    },
    {
     "name": "stdout",
     "output_type": "stream",
     "text": [
      "INFO:tensorflow:Assets written to: model2\\assets\n"
     ]
    },
    {
     "name": "stderr",
     "output_type": "stream",
     "text": [
      "INFO:tensorflow:Assets written to: model2\\assets\n"
     ]
    },
    {
     "name": "stdout",
     "output_type": "stream",
     "text": [
      "94/94 [==============================] - 4s 43ms/step - loss: 9.4218 - root_mean_squared_error: 3.0695 - val_loss: 9.0166 - val_root_mean_squared_error: 3.0028\n",
      "Epoch 62/100\n",
      "89/94 [===========================>..] - ETA: 0s - loss: 9.0519 - root_mean_squared_error: 3.0086"
     ]
    },
    {
     "name": "stderr",
     "output_type": "stream",
     "text": [
      "WARNING:absl:Found untraced functions such as _jit_compiled_convolution_op, lstm_cell_layer_call_fn, lstm_cell_layer_call_and_return_conditional_losses while saving (showing 3 of 3). These functions will not be directly callable after loading.\n"
     ]
    },
    {
     "name": "stdout",
     "output_type": "stream",
     "text": [
      "INFO:tensorflow:Assets written to: model2\\assets\n"
     ]
    },
    {
     "name": "stderr",
     "output_type": "stream",
     "text": [
      "INFO:tensorflow:Assets written to: model2\\assets\n"
     ]
    },
    {
     "name": "stdout",
     "output_type": "stream",
     "text": [
      "94/94 [==============================] - 4s 47ms/step - loss: 9.3528 - root_mean_squared_error: 3.0582 - val_loss: 8.9475 - val_root_mean_squared_error: 2.9912\n",
      "Epoch 63/100\n",
      "94/94 [==============================] - 1s 7ms/step - loss: 9.3585 - root_mean_squared_error: 3.0592 - val_loss: 9.4849 - val_root_mean_squared_error: 3.0798\n",
      "Epoch 64/100\n",
      "94/94 [==============================] - 1s 6ms/step - loss: 9.3656 - root_mean_squared_error: 3.0603 - val_loss: 9.0806 - val_root_mean_squared_error: 3.0134\n",
      "Epoch 65/100\n",
      "94/94 [==============================] - 1s 6ms/step - loss: 9.3048 - root_mean_squared_error: 3.0504 - val_loss: 9.3138 - val_root_mean_squared_error: 3.0518\n",
      "Epoch 66/100\n",
      "94/94 [==============================] - 1s 7ms/step - loss: 9.3590 - root_mean_squared_error: 3.0592 - val_loss: 9.0514 - val_root_mean_squared_error: 3.0086\n",
      "Epoch 67/100\n",
      "94/94 [==============================] - 1s 7ms/step - loss: 9.3238 - root_mean_squared_error: 3.0535 - val_loss: 9.3194 - val_root_mean_squared_error: 3.0528\n",
      "Epoch 68/100\n",
      "94/94 [==============================] - 1s 8ms/step - loss: 9.4048 - root_mean_squared_error: 3.0667 - val_loss: 9.4769 - val_root_mean_squared_error: 3.0785\n",
      "Epoch 69/100\n",
      "94/94 [==============================] - 1s 8ms/step - loss: 9.2822 - root_mean_squared_error: 3.0467 - val_loss: 9.1481 - val_root_mean_squared_error: 3.0246\n",
      "Epoch 70/100\n",
      "94/94 [==============================] - 1s 7ms/step - loss: 9.3545 - root_mean_squared_error: 3.0585 - val_loss: 9.2364 - val_root_mean_squared_error: 3.0391\n",
      "Epoch 71/100\n",
      "94/94 [==============================] - 1s 7ms/step - loss: 9.3671 - root_mean_squared_error: 3.0606 - val_loss: 9.1009 - val_root_mean_squared_error: 3.0168\n",
      "Epoch 72/100\n",
      "94/94 [==============================] - 1s 7ms/step - loss: 9.2687 - root_mean_squared_error: 3.0445 - val_loss: 9.2707 - val_root_mean_squared_error: 3.0448\n",
      "Epoch 73/100\n",
      "94/94 [==============================] - 1s 6ms/step - loss: 9.3434 - root_mean_squared_error: 3.0567 - val_loss: 9.0764 - val_root_mean_squared_error: 3.0127\n",
      "Epoch 74/100\n",
      "89/94 [===========================>..] - ETA: 0s - loss: 9.2254 - root_mean_squared_error: 3.0373"
     ]
    },
    {
     "name": "stderr",
     "output_type": "stream",
     "text": [
      "WARNING:absl:Found untraced functions such as _jit_compiled_convolution_op, lstm_cell_layer_call_fn, lstm_cell_layer_call_and_return_conditional_losses while saving (showing 3 of 3). These functions will not be directly callable after loading.\n"
     ]
    },
    {
     "name": "stdout",
     "output_type": "stream",
     "text": [
      "INFO:tensorflow:Assets written to: model2\\assets\n"
     ]
    },
    {
     "name": "stderr",
     "output_type": "stream",
     "text": [
      "INFO:tensorflow:Assets written to: model2\\assets\n"
     ]
    },
    {
     "name": "stdout",
     "output_type": "stream",
     "text": [
      "94/94 [==============================] - 4s 41ms/step - loss: 9.2983 - root_mean_squared_error: 3.0493 - val_loss: 8.8243 - val_root_mean_squared_error: 2.9706\n",
      "Epoch 75/100\n",
      "94/94 [==============================] - 1s 6ms/step - loss: 9.2189 - root_mean_squared_error: 3.0363 - val_loss: 8.8785 - val_root_mean_squared_error: 2.9797\n",
      "Epoch 76/100\n",
      "94/94 [==============================] - 1s 6ms/step - loss: 9.2178 - root_mean_squared_error: 3.0361 - val_loss: 9.3345 - val_root_mean_squared_error: 3.0552\n",
      "Epoch 77/100\n",
      "94/94 [==============================] - 1s 7ms/step - loss: 9.2260 - root_mean_squared_error: 3.0374 - val_loss: 8.9319 - val_root_mean_squared_error: 2.9886\n",
      "Epoch 78/100\n",
      "94/94 [==============================] - 1s 6ms/step - loss: 9.3307 - root_mean_squared_error: 3.0546 - val_loss: 9.4312 - val_root_mean_squared_error: 3.0710\n",
      "Epoch 79/100\n",
      "94/94 [==============================] - 1s 6ms/step - loss: 9.3774 - root_mean_squared_error: 3.0622 - val_loss: 8.8293 - val_root_mean_squared_error: 2.9714\n",
      "Epoch 80/100\n",
      "94/94 [==============================] - 1s 7ms/step - loss: 9.2265 - root_mean_squared_error: 3.0375 - val_loss: 9.0209 - val_root_mean_squared_error: 3.0035\n",
      "Epoch 81/100\n",
      "94/94 [==============================] - 1s 6ms/step - loss: 9.1808 - root_mean_squared_error: 3.0300 - val_loss: 9.4524 - val_root_mean_squared_error: 3.0745\n",
      "Epoch 82/100\n",
      "94/94 [==============================] - 1s 6ms/step - loss: 9.3381 - root_mean_squared_error: 3.0558 - val_loss: 9.2622 - val_root_mean_squared_error: 3.0434\n",
      "Epoch 83/100\n",
      "94/94 [==============================] - 1s 6ms/step - loss: 9.1656 - root_mean_squared_error: 3.0275 - val_loss: 8.9145 - val_root_mean_squared_error: 2.9857\n",
      "Epoch 84/100\n",
      "93/94 [============================>.] - ETA: 0s - loss: 9.2217 - root_mean_squared_error: 3.0367"
     ]
    },
    {
     "name": "stderr",
     "output_type": "stream",
     "text": [
      "WARNING:absl:Found untraced functions such as _jit_compiled_convolution_op, lstm_cell_layer_call_fn, lstm_cell_layer_call_and_return_conditional_losses while saving (showing 3 of 3). These functions will not be directly callable after loading.\n"
     ]
    },
    {
     "name": "stdout",
     "output_type": "stream",
     "text": [
      "INFO:tensorflow:Assets written to: model2\\assets\n"
     ]
    },
    {
     "name": "stderr",
     "output_type": "stream",
     "text": [
      "INFO:tensorflow:Assets written to: model2\\assets\n"
     ]
    },
    {
     "name": "stdout",
     "output_type": "stream",
     "text": [
      "94/94 [==============================] - 4s 43ms/step - loss: 9.1938 - root_mean_squared_error: 3.0321 - val_loss: 8.7868 - val_root_mean_squared_error: 2.9642\n",
      "Epoch 85/100\n",
      "94/94 [==============================] - 1s 6ms/step - loss: 9.2220 - root_mean_squared_error: 3.0368 - val_loss: 9.3492 - val_root_mean_squared_error: 3.0576\n",
      "Epoch 86/100\n",
      "94/94 [==============================] - 1s 6ms/step - loss: 9.2124 - root_mean_squared_error: 3.0352 - val_loss: 9.1659 - val_root_mean_squared_error: 3.0275\n",
      "Epoch 87/100\n",
      "94/94 [==============================] - 1s 7ms/step - loss: 9.1015 - root_mean_squared_error: 3.0169 - val_loss: 9.7396 - val_root_mean_squared_error: 3.1208\n",
      "Epoch 88/100\n",
      "94/94 [==============================] - 1s 6ms/step - loss: 9.0569 - root_mean_squared_error: 3.0095 - val_loss: 8.9548 - val_root_mean_squared_error: 2.9925\n",
      "Epoch 89/100\n",
      "94/94 [==============================] - 1s 8ms/step - loss: 9.0982 - root_mean_squared_error: 3.0163 - val_loss: 9.0911 - val_root_mean_squared_error: 3.0151\n",
      "Epoch 90/100\n",
      "94/94 [==============================] - 1s 7ms/step - loss: 9.1890 - root_mean_squared_error: 3.0313 - val_loss: 9.0714 - val_root_mean_squared_error: 3.0119\n",
      "Epoch 91/100\n",
      "94/94 [==============================] - 1s 7ms/step - loss: 9.0383 - root_mean_squared_error: 3.0064 - val_loss: 9.2771 - val_root_mean_squared_error: 3.0458\n",
      "Epoch 92/100\n",
      "94/94 [==============================] - 1s 7ms/step - loss: 9.0912 - root_mean_squared_error: 3.0152 - val_loss: 9.2717 - val_root_mean_squared_error: 3.0450\n",
      "Epoch 93/100\n",
      "94/94 [==============================] - 1s 7ms/step - loss: 9.0763 - root_mean_squared_error: 3.0127 - val_loss: 9.6893 - val_root_mean_squared_error: 3.1128\n",
      "Epoch 94/100\n",
      "94/94 [==============================] - 1s 7ms/step - loss: 9.0225 - root_mean_squared_error: 3.0037 - val_loss: 9.1096 - val_root_mean_squared_error: 3.0182\n",
      "Epoch 95/100\n",
      "94/94 [==============================] - 1s 7ms/step - loss: 8.9733 - root_mean_squared_error: 2.9955 - val_loss: 8.8203 - val_root_mean_squared_error: 2.9699\n",
      "Epoch 96/100\n",
      "94/94 [==============================] - 1s 8ms/step - loss: 9.0128 - root_mean_squared_error: 3.0021 - val_loss: 8.8612 - val_root_mean_squared_error: 2.9768\n",
      "Epoch 97/100\n",
      "94/94 [==============================] - 1s 8ms/step - loss: 9.0909 - root_mean_squared_error: 3.0151 - val_loss: 8.9511 - val_root_mean_squared_error: 2.9918\n",
      "Epoch 98/100\n",
      "93/94 [============================>.] - ETA: 0s - loss: 9.0237 - root_mean_squared_error: 3.0040"
     ]
    },
    {
     "name": "stderr",
     "output_type": "stream",
     "text": [
      "WARNING:absl:Found untraced functions such as _jit_compiled_convolution_op, lstm_cell_layer_call_fn, lstm_cell_layer_call_and_return_conditional_losses while saving (showing 3 of 3). These functions will not be directly callable after loading.\n"
     ]
    },
    {
     "name": "stdout",
     "output_type": "stream",
     "text": [
      "INFO:tensorflow:Assets written to: model2\\assets\n"
     ]
    },
    {
     "name": "stderr",
     "output_type": "stream",
     "text": [
      "INFO:tensorflow:Assets written to: model2\\assets\n"
     ]
    },
    {
     "name": "stdout",
     "output_type": "stream",
     "text": [
      "94/94 [==============================] - 4s 45ms/step - loss: 8.9998 - root_mean_squared_error: 3.0000 - val_loss: 8.7264 - val_root_mean_squared_error: 2.9540\n",
      "Epoch 99/100\n",
      "94/94 [==============================] - 1s 7ms/step - loss: 9.1158 - root_mean_squared_error: 3.0192 - val_loss: 8.9828 - val_root_mean_squared_error: 2.9971\n",
      "Epoch 100/100\n",
      "94/94 [==============================] - 1s 8ms/step - loss: 9.0153 - root_mean_squared_error: 3.0026 - val_loss: 8.8879 - val_root_mean_squared_error: 2.9813\n"
     ]
    }
   ],
   "source": [
    "cp1 = ModelCheckpoint('model2/', save_best_only=True)\n",
    "model2.compile(loss=MeanSquaredError(), optimizer=Adam(learning_rate=0.0001), metrics=[RootMeanSquaredError()])\n",
    "history=model2.fit(X_train, y_train, validation_data=(X_test, y_test), epochs=100, callbacks=[cp1])"
   ]
  },
  {
   "cell_type": "code",
   "execution_count": 151,
   "metadata": {},
   "outputs": [
    {
     "name": "stdout",
     "output_type": "stream",
     "text": [
      "32/32 [==============================] - 1s 3ms/step\n"
     ]
    }
   ],
   "source": [
    "preds=model2.predict(X_test\n",
    "               )"
   ]
  },
  {
   "cell_type": "code",
   "execution_count": 152,
   "metadata": {},
   "outputs": [
    {
     "data": {
      "text/plain": [
       "<matplotlib.legend.Legend at 0x2490e127130>"
      ]
     },
     "execution_count": 152,
     "metadata": {},
     "output_type": "execute_result"
    },
    {
     "data": {
      "image/png": "[encoded data removed]",
      "text/plain": [
       "<Figure size 432x288 with 1 Axes>"
      ]
     },
     "metadata": {
      "needs_background": "light"
     },
     "output_type": "display_data"
    }
   ],
   "source": [
    "plt.plot(preds[:100,0],label='preds')\n",
    "plt.plot(y_test[:100,0], label='actual')\n",
    "plt.legend()"
   ]
  },
  {
   "cell_type": "code",
   "execution_count": 153,
   "metadata": {},
   "outputs": [
    {
     "data": {
      "image/png": "[encoded data removed]",
      "text/plain": [
       "<Figure size 432x288 with 1 Axes>"
      ]
     },
     "metadata": {
      "needs_background": "light"
     },
     "output_type": "display_data"
    }
   ],
   "source": [
    "plt.plot(history.history['loss'])\n",
    "plt.plot(history.history['val_loss'])\n",
    "plt.title('model loss')\n",
    "plt.ylabel('loss')\n",
    "plt.xlabel('epoch')\n",
    "plt.legend(['train', 'val'], loc='upper right')\n",
    "plt.show()"
   ]
  },
  {
   "cell_type": "code",
   "execution_count": 154,
   "metadata": {},
   "outputs": [
    {
     "name": "stdout",
     "output_type": "stream",
     "text": [
      "1/1 [==============================] - 0s 23ms/step\n"
     ]
    },
    {
     "name": "stdout",
     "output_type": "stream",
     "text": [
      "1/1 [==============================] - 0s 22ms/step\n",
      "1/1 [==============================] - 0s 25ms/step\n",
      "1/1 [==============================] - 0s 24ms/step\n",
      "1/1 [==============================] - 0s 21ms/step\n",
      "1/1 [==============================] - 0s 23ms/step\n",
      "1/1 [==============================] - 0s 23ms/step\n",
      "1/1 [==============================] - 0s 19ms/step\n",
      "1/1 [==============================] - 0s 18ms/step\n",
      "1/1 [==============================] - 0s 17ms/step\n"
     ]
    },
    {
     "data": {
      "text/plain": [
       "array([[22.947226, 36.195374],\n",
       "       [22.596033, 35.435936],\n",
       "       [21.613201, 40.956734],\n",
       "       [19.701958, 44.933983],\n",
       "       [19.987906, 43.662643],\n",
       "       [18.298927, 51.182236],\n",
       "       [18.708637, 50.15425 ],\n",
       "       [20.754595, 44.85363 ],\n",
       "       [25.007418, 36.006496],\n",
       "       [27.492556, 29.54971 ]], dtype=float32)"
      ]
     },
     "execution_count": 154,
     "metadata": {},
     "output_type": "execute_result"
    }
   ],
   "source": [
    "forecast_steps=10\n",
    "last_batch=X_test[len(y_test)-time_steps:]\n",
    "forecast=[]\n",
    "for step in range(forecast_steps):\n",
    "    pred=model2.predict(np.array(X_test[step]).reshape(1,time_steps,n_series))\n",
    "    forecast.append(pred)\n",
    "    last_batch=np.append(last_batch[1:],pred)\n",
    "forecast=np.array(forecast)\n",
    "final_forecast=forecast.reshape(forecast_steps,n_series)\n",
    "final_forecast"
   ]
  },
  {
   "cell_type": "code",
   "execution_count": 155,
   "metadata": {},
   "outputs": [
    {
     "name": "stdout",
     "output_type": "stream",
     "text": [
      "1/1 [==============================] - 0s 18ms/step\n"
     ]
    },
    {
     "data": {
      "text/plain": [
       "array([[22.947226, 36.195374]], dtype=float32)"
      ]
     },
     "execution_count": 155,
     "metadata": {},
     "output_type": "execute_result"
    }
   ],
   "source": [
    "model2.predict(X_test[0].reshape(1,time_steps,n_series))"
   ]
  },
  {
   "cell_type": "code",
   "execution_count": 156,
   "metadata": {},
   "outputs": [],
   "source": [
    "final_forecast=final_forecast.reshape(forecast_steps,n_series)"
   ]
  },
  {
   "cell_type": "code",
   "execution_count": 157,
   "metadata": {},
   "outputs": [
    {
     "data": {
      "text/plain": [
       "<AxesSubplot:>"
      ]
     },
     "execution_count": 157,
     "metadata": {},
     "output_type": "execute_result"
    },
    {
     "data": {
      "image/png": "[encoded data removed]",
      "text/plain": [
       "<Figure size 432x288 with 1 Axes>"
      ]
     },
     "metadata": {
      "needs_background": "light"
     },
     "output_type": "display_data"
    },
    {
     "data": {
      "image/png": "[encoded data removed]",
      "text/plain": [
       "<Figure size 432x288 with 1 Axes>"
      ]
     },
     "metadata": {
      "needs_background": "light"
     },
     "output_type": "display_data"
    }
   ],
   "source": [
    "pd.DataFrame(y_test).iloc[7600:].plot()\n",
    "pd.DataFrame(final_forecast).plot()"
   ]
  },
  {
   "cell_type": "code",
   "execution_count": 158,
   "metadata": {},
   "outputs": [
    {
     "data": {
      "image/png": "[encoded data removed]",
      "text/plain": [
       "<Figure size 432x288 with 1 Axes>"
      ]
     },
     "metadata": {
      "needs_background": "light"
     },
     "output_type": "display_data"
    }
   ],
   "source": [
    "chart_df=pd.DataFrame(np.append(y_test[-100:], final_forecast).reshape(100+10,-1))\n",
    "chart_df.iloc[:100,1].plot(label='actual')\n",
    "chart_df.iloc[100:,1].plot(label='forecast')\n",
    "plt.legend()\n",
    "plt.show()"
   ]
  },
  {
   "cell_type": "code",
   "execution_count": 159,
   "metadata": {},
   "outputs": [
    {
     "data": {
      "image/png": "[encoded data removed]",
      "text/plain": [
       "<Figure size 432x288 with 1 Axes>"
      ]
     },
     "metadata": {
      "needs_background": "light"
     },
     "output_type": "display_data"
    }
   ],
   "source": [
    "chart_df.iloc[:100,1].plot(label='actual')\n",
    "chart_df.iloc[100:,1].plot(label='forecast')\n",
    "plt.legend()\n",
    "plt.show()"
   ]
  },
  {
   "cell_type": "code",
   "execution_count": 139,
   "metadata": {},
   "outputs": [
    {
     "data": {
      "text/plain": [
       "array([[21.0250001 , 36.92499924],\n",
       "       [22.82499981, 32.95000076],\n",
       "       [24.        , 30.32499981],\n",
       "       [22.625     , 33.22500038],\n",
       "       [22.4749999 , 32.92500019],\n",
       "       [21.49999952, 33.8499999 ],\n",
       "       [21.39999962, 36.42499924],\n",
       "       [19.95000029, 38.92500019],\n",
       "       [17.79999971, 45.17499924],\n",
       "       [16.2750001 , 47.30000019],\n",
       "       [16.29999971, 44.82499981],\n",
       "       [15.57500005, 47.07499981],\n",
       "       [15.12500024, 47.64999962],\n",
       "       [15.05000019, 44.52499962],\n",
       "       [14.62500024, 42.95000076],\n",
       "       [14.4749999 , 43.70000076],\n",
       "       [13.59999975, 46.73333359],\n",
       "       [13.67499995, 48.82500076],\n",
       "       [13.4749999 , 50.60000038],\n",
       "       [13.7249999 , 47.42499924],\n",
       "       [13.70000005, 45.85000038],\n",
       "       [16.07500052, 41.00000095],\n",
       "       [16.12499976, 41.54999924],\n",
       "       [16.45000029, 40.77499962],\n",
       "       [18.92500019, 33.77500105],\n",
       "       [19.17500019, 29.4749999 ],\n",
       "       [19.92500019, 26.29999971],\n",
       "       [19.19999981, 26.95000029],\n",
       "       [19.375     , 25.27500057],\n",
       "       [18.92500019, 26.17499971],\n",
       "       [19.3499999 , 24.67499971],\n",
       "       [17.05000019, 25.32499981],\n",
       "       [15.57500005, 26.19999981],\n",
       "       [13.75      , 30.5999999 ],\n",
       "       [13.07500005, 31.72500038],\n",
       "       [13.17499995, 31.80000019],\n",
       "       [13.5999999 , 30.82499981],\n",
       "       [13.14999986, 31.97500038],\n",
       "       [12.67499995, 33.55000019],\n",
       "       [12.19999981, 35.55000019],\n",
       "       [11.9000001 , 35.57499981],\n",
       "       [11.2249999 , 38.32500076],\n",
       "       [11.0250001 , 40.47500038],\n",
       "       [10.6500001 , 42.82499981],\n",
       "       [11.12499976, 43.27500057],\n",
       "       [14.17500019, 36.92499924],\n",
       "       [15.5999999 , 33.30000019],\n",
       "       [16.27499986, 30.02499962],\n",
       "       [17.04999971, 26.125     ],\n",
       "       [19.3499999 , 22.27499962],\n",
       "       [20.5       , 21.87500048],\n",
       "       [22.        , 20.20000029],\n",
       "       [21.7249999 , 20.90000057],\n",
       "       [21.55000067, 20.82499981],\n",
       "       [21.        , 22.25000048],\n",
       "       [18.57499981, 26.57500029],\n",
       "       [15.54999995, 33.94999981],\n",
       "       [14.32500005, 37.95000076],\n",
       "       [13.54999995, 39.40000057],\n",
       "       [13.07500005, 41.25      ],\n",
       "       [13.5       , 37.75      ],\n",
       "       [13.47500014, 37.35000038],\n",
       "       [12.7249999 , 40.77499962],\n",
       "       [12.        , 44.15000057],\n",
       "       [10.45000005, 48.72500038],\n",
       "       [10.05000019, 49.67500019],\n",
       "       [ 9.55000019, 51.        ],\n",
       "       [ 9.12499976, 52.375     ],\n",
       "       [ 8.92500019, 52.72499943],\n",
       "       [13.5250001 , 39.97500038],\n",
       "       [17.82500029, 30.67499971],\n",
       "       [21.125     , 23.72500038],\n",
       "       [24.        , 19.27499962],\n",
       "       [26.45000029, 16.44999981],\n",
       "       [28.67499971, 13.70000005],\n",
       "       [28.4749999 , 13.07499981],\n",
       "       [30.        , 11.07499981],\n",
       "       [29.42500019, 10.37500024],\n",
       "       [28.875     ,  9.87500024],\n",
       "       [22.80000051, 21.69999949],\n",
       "       [19.92499971, 33.04999971],\n",
       "       [17.5       , 40.72499943],\n",
       "       [16.44999981, 46.55000019],\n",
       "       [15.5250001 , 48.97500038],\n",
       "       [14.2750001 , 52.5       ],\n",
       "       [14.17499995, 51.44999981],\n",
       "       [13.8499999 , 51.15000057],\n",
       "       [12.0999999 , 56.30000019],\n",
       "       [11.32500005, 58.89999866],\n",
       "       [11.82500005, 55.97500038],\n",
       "       [10.4000001 , 59.875     ],\n",
       "       [ 9.54999995, 63.14999962],\n",
       "       [ 9.67499995, 61.92499924],\n",
       "       [13.54999971, 48.875     ],\n",
       "       [18.15000057, 36.27500057],\n",
       "       [21.85000038, 29.25      ],\n",
       "       [24.32500029, 23.7249999 ],\n",
       "       [26.89999962, 18.34999967],\n",
       "       [28.32499981, 13.54999995],\n",
       "       [28.50000048, 13.125     ]])"
      ]
     },
     "execution_count": 139,
     "metadata": {},
     "output_type": "execute_result"
    }
   ],
   "source": [
    "y_test[-100:]"
   ]
  },
  {
   "cell_type": "code",
   "execution_count": null,
   "metadata": {},
   "outputs": [],
   "source": []
  }
 ],
 "metadata": {
  "kernelspec": {
   "display_name": "base",
   "language": "python",
   "name": "python3"
  },
  "language_info": {
   "codemirror_mode": {
    "name": "ipython",
    "version": 3
   },
   "file_extension": ".py",
   "mimetype": "text/x-python",
   "name": "python",
   "nbconvert_exporter": "python",
   "pygments_lexer": "ipython3",
   "version": "3.9.7"
  },
  "orig_nbformat": 4
 },
 "nbformat": 4,
 "nbformat_minor": 2
}
